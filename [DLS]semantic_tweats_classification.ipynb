{
 "cells": [
  {
   "cell_type": "markdown",
   "metadata": {
    "id": "Ot3c4fjZwC4T"
   },
   "source": [
    "\n",
    "<h3><b>Физтех-Школа Прикладной математики и информатики (ФПМИ) МФТИ</b></h3>"
   ]
  },
  {
   "cell_type": "markdown",
   "metadata": {
    "id": "eYtJxkhKpYK2"
   },
   "source": [
    "# Embeddings\n",
    "\n",
    "В этом домашнем задании мы с помощью эмбеддингов решим задачу семантической классификации твитов.\n",
    "\n",
    "Для этого мы воспользуемся предобученными эмбеддингами word2vec."
   ]
  },
  {
   "cell_type": "markdown",
   "metadata": {
    "id": "jBOdoFS8AdpP"
   },
   "source": [
    "Для начала скачаем датасет для семантической классификации твитов:"
   ]
  },
  {
   "cell_type": "code",
   "execution_count": 1,
   "metadata": {
    "colab": {
     "base_uri": "https://localhost:8080/"
    },
    "id": "wXjhtsfF_gBK",
    "outputId": "733fa3e6-78a7-4c8a-d12f-7eef09856c7d"
   },
   "outputs": [
    {
     "name": "stdout",
     "output_type": "stream",
     "text": [
      "Archive:  archive.zip\n",
      "replace training.1600000.processed.noemoticon.csv? [y]es, [n]o, [A]ll, [N]one, [r]ename: ^C\n"
     ]
    }
   ],
   "source": [
    "# !gdown https://drive.google.com/uc?id=1eE1FiUkXkcbw0McId4i7qY-L8hH-_Qph&export=download\n",
    "# !unzip archive.zip"
   ]
  },
  {
   "cell_type": "markdown",
   "metadata": {
    "id": "Sh6wW-K53Mle"
   },
   "source": [
    "### Импорты"
   ]
  },
  {
   "cell_type": "code",
   "execution_count": 1,
   "metadata": {
    "id": "A2Y5CHRm6NFe"
   },
   "outputs": [],
   "source": [
    "import math\n",
    "import random\n",
    "import string\n",
    "import re\n",
    "\n",
    "import numpy as np\n",
    "np.seterr(divide='ignore', invalid='ignore')\n",
    "import pandas as pd\n",
    "import seaborn as sns\n",
    "\n",
    "import torch\n",
    "import nltk\n",
    "import gensim\n",
    "import gensim.downloader as api"
   ]
  },
  {
   "cell_type": "code",
   "execution_count": 2,
   "metadata": {
    "id": "73Lb0wbESrgQ"
   },
   "outputs": [],
   "source": [
    "random.seed(42)\n",
    "np.random.seed(42)\n",
    "torch.random.manual_seed(42)\n",
    "torch.cuda.random.manual_seed(42)\n",
    "torch.cuda.random.manual_seed_all(42)\n",
    "\n",
    "device = \"cuda\" if torch.cuda.is_available() else \"cpu\""
   ]
  },
  {
   "cell_type": "code",
   "execution_count": 3,
   "metadata": {
    "id": "L_Wv-4bu83Fl"
   },
   "outputs": [],
   "source": [
    "data = pd.read_csv(\"training.1600000.processed.noemoticon.csv\", encoding=\"latin\", header=None, names=[\"emotion\", \"id\", \"date\", \"flag\", \"user\", \"text\"])"
   ]
  },
  {
   "cell_type": "markdown",
   "metadata": {
    "id": "RY1pvYDS3Yuj"
   },
   "source": [
    "Посмотрим на данные:"
   ]
  },
  {
   "cell_type": "code",
   "execution_count": 4,
   "metadata": {
    "colab": {
     "base_uri": "https://localhost:8080/",
     "height": 206
    },
    "id": "jST2tjgjCTWD",
    "outputId": "d4dfa445-6650-46a1-8b2e-7a3ccfe04f1d"
   },
   "outputs": [
    {
     "data": {
      "text/html": [
       "<div>\n",
       "<style scoped>\n",
       "    .dataframe tbody tr th:only-of-type {\n",
       "        vertical-align: middle;\n",
       "    }\n",
       "\n",
       "    .dataframe tbody tr th {\n",
       "        vertical-align: top;\n",
       "    }\n",
       "\n",
       "    .dataframe thead th {\n",
       "        text-align: right;\n",
       "    }\n",
       "</style>\n",
       "<table border=\"1\" class=\"dataframe\">\n",
       "  <thead>\n",
       "    <tr style=\"text-align: right;\">\n",
       "      <th></th>\n",
       "      <th>emotion</th>\n",
       "      <th>id</th>\n",
       "      <th>date</th>\n",
       "      <th>flag</th>\n",
       "      <th>user</th>\n",
       "      <th>text</th>\n",
       "    </tr>\n",
       "  </thead>\n",
       "  <tbody>\n",
       "    <tr>\n",
       "      <th>0</th>\n",
       "      <td>0</td>\n",
       "      <td>1467810369</td>\n",
       "      <td>Mon Apr 06 22:19:45 PDT 2009</td>\n",
       "      <td>NO_QUERY</td>\n",
       "      <td>_TheSpecialOne_</td>\n",
       "      <td>@switchfoot http://twitpic.com/2y1zl - Awww, t...</td>\n",
       "    </tr>\n",
       "    <tr>\n",
       "      <th>1</th>\n",
       "      <td>0</td>\n",
       "      <td>1467810672</td>\n",
       "      <td>Mon Apr 06 22:19:49 PDT 2009</td>\n",
       "      <td>NO_QUERY</td>\n",
       "      <td>scotthamilton</td>\n",
       "      <td>is upset that he can't update his Facebook by ...</td>\n",
       "    </tr>\n",
       "    <tr>\n",
       "      <th>2</th>\n",
       "      <td>0</td>\n",
       "      <td>1467810917</td>\n",
       "      <td>Mon Apr 06 22:19:53 PDT 2009</td>\n",
       "      <td>NO_QUERY</td>\n",
       "      <td>mattycus</td>\n",
       "      <td>@Kenichan I dived many times for the ball. Man...</td>\n",
       "    </tr>\n",
       "    <tr>\n",
       "      <th>3</th>\n",
       "      <td>0</td>\n",
       "      <td>1467811184</td>\n",
       "      <td>Mon Apr 06 22:19:57 PDT 2009</td>\n",
       "      <td>NO_QUERY</td>\n",
       "      <td>ElleCTF</td>\n",
       "      <td>my whole body feels itchy and like its on fire</td>\n",
       "    </tr>\n",
       "    <tr>\n",
       "      <th>4</th>\n",
       "      <td>0</td>\n",
       "      <td>1467811193</td>\n",
       "      <td>Mon Apr 06 22:19:57 PDT 2009</td>\n",
       "      <td>NO_QUERY</td>\n",
       "      <td>Karoli</td>\n",
       "      <td>@nationwideclass no, it's not behaving at all....</td>\n",
       "    </tr>\n",
       "  </tbody>\n",
       "</table>\n",
       "</div>"
      ],
      "text/plain": [
       "   emotion          id                          date      flag  \\\n",
       "0        0  1467810369  Mon Apr 06 22:19:45 PDT 2009  NO_QUERY   \n",
       "1        0  1467810672  Mon Apr 06 22:19:49 PDT 2009  NO_QUERY   \n",
       "2        0  1467810917  Mon Apr 06 22:19:53 PDT 2009  NO_QUERY   \n",
       "3        0  1467811184  Mon Apr 06 22:19:57 PDT 2009  NO_QUERY   \n",
       "4        0  1467811193  Mon Apr 06 22:19:57 PDT 2009  NO_QUERY   \n",
       "\n",
       "              user                                               text  \n",
       "0  _TheSpecialOne_  @switchfoot http://twitpic.com/2y1zl - Awww, t...  \n",
       "1    scotthamilton  is upset that he can't update his Facebook by ...  \n",
       "2         mattycus  @Kenichan I dived many times for the ball. Man...  \n",
       "3          ElleCTF    my whole body feels itchy and like its on fire   \n",
       "4           Karoli  @nationwideclass no, it's not behaving at all....  "
      ]
     },
     "execution_count": 4,
     "metadata": {},
     "output_type": "execute_result"
    }
   ],
   "source": [
    "data.head()"
   ]
  },
  {
   "cell_type": "markdown",
   "metadata": {
    "id": "OhbR5JJyA2VW"
   },
   "source": [
    "Выведем несколько примеров твитов, чтобы понимать, с чем мы имеем дело:"
   ]
  },
  {
   "cell_type": "code",
   "execution_count": 5,
   "metadata": {
    "colab": {
     "base_uri": "https://localhost:8080/"
    },
    "id": "kCBwe0wR83C2",
    "outputId": "eddf80ed-a3c5-4bee-9df8-08ae82ac51e5"
   },
   "outputs": [
    {
     "name": "stdout",
     "output_type": "stream",
     "text": [
      "@chrishasboobs AHHH I HOPE YOUR OK!!! \n",
      "@misstoriblack cool , i have no tweet apps  for my razr 2\n",
      "@TiannaChaos i know  just family drama. its lame.hey next time u hang out with kim n u guys like have a sleepover or whatever, ill call u\n",
      "School email won't open  and I have geography stuff on there to revise! *Stupid School* :'(\n",
      "upper airways problem \n",
      "Going to miss Pastor's sermon on Faith... \n",
      "on lunch....dj should come eat with me \n",
      "@piginthepoke oh why are you feeling like that? \n",
      "gahh noo!peyton needs to live!this is horrible \n",
      "@mrstessyman thank you glad you like it! There is a product review bit on the site  Enjoy knitting it!\n"
     ]
    }
   ],
   "source": [
    "examples = data[\"text\"].sample(10)\n",
    "print(\"\\n\".join(examples))"
   ]
  },
  {
   "cell_type": "markdown",
   "metadata": {
    "id": "GvcYW8aX3mKt"
   },
   "source": [
    "Как вилим, тексты твитов очень \"грязные\". Нужно предобработать датасет, прежде чем строить для него модель классификации.\n",
    "\n",
    "Чтобы сравнивать различные методы обработки текста/модели/прочее, разделим датасет на dev(для обучения модели) и test(для получения качества модели)."
   ]
  },
  {
   "cell_type": "code",
   "execution_count": 4,
   "metadata": {
    "id": "f8hUK-jnQg6O"
   },
   "outputs": [],
   "source": [
    "indexes = np.arange(data.shape[0])\n",
    "np.random.shuffle(indexes)\n",
    "dev_size = math.ceil(data.shape[0] * 0.8)\n",
    "\n",
    "dev_indexes = indexes[:dev_size]\n",
    "test_indexes = indexes[dev_size:]\n",
    "\n",
    "dev_data = data.iloc[dev_indexes]\n",
    "test_data = data.iloc[test_indexes]\n",
    "\n",
    "dev_data.reset_index(drop=True, inplace=True)\n",
    "test_data.reset_index(drop=True, inplace=True)"
   ]
  },
  {
   "cell_type": "markdown",
   "metadata": {
    "id": "6ivcpeFoCnZA"
   },
   "source": [
    "## Обработка текста"
   ]
  },
  {
   "cell_type": "markdown",
   "metadata": {
    "id": "Df4nca285Dar"
   },
   "source": [
    "Токенизируем текст, избавимся от знаков пунктуации и выкинем все слова, состоящие менее чем из 4 букв:"
   ]
  },
  {
   "cell_type": "code",
   "execution_count": 44,
   "metadata": {
    "colab": {
     "base_uri": "https://localhost:8080/"
    },
    "id": "nsNHNDES9ZVF",
    "outputId": "40c03764-8f5b-466b-dae5-ba5ef20f6b7e"
   },
   "outputs": [
    {
     "name": "stdout",
     "output_type": "stream",
     "text": [
      "@ joy_inc well done you will be making progress in no time\n"
     ]
    }
   ],
   "source": [
    "tokenizer = nltk.WordPunctTokenizer()\n",
    "line = tokenizer.tokenize(dev_data[\"text\"][0].lower())\n",
    "print(\" \".join(line))"
   ]
  },
  {
   "cell_type": "code",
   "execution_count": 45,
   "metadata": {
    "colab": {
     "base_uri": "https://localhost:8080/"
    },
    "id": "GcBS_u_hTuxp",
    "outputId": "7dc252cb-c191-4077-8630-9b389e1b722b"
   },
   "outputs": [
    {
     "name": "stdout",
     "output_type": "stream",
     "text": [
      "well done will making progress time\n"
     ]
    }
   ],
   "source": [
    "filtered_line = [w for w in line if all(c not in string.punctuation for c in w) and len(w) > 3]\n",
    "print(\" \".join(filtered_line))"
   ]
  },
  {
   "cell_type": "markdown",
   "metadata": {
    "id": "cuFmlXkC6E7X"
   },
   "source": [
    "Загрузим предобученную модель эмбеддингов. \n",
    "\n",
    "Данная модель выдает эмбеддинги для **слов**. Строить по эмбеддингам слов эмбеддинги предложений мы будем ниже."
   ]
  },
  {
   "cell_type": "code",
   "execution_count": 5,
   "metadata": {
    "colab": {
     "base_uri": "https://localhost:8080/"
    },
    "id": "cACJpje2T5bc",
    "outputId": "2a401aea-eee0-4128-e83f-19a4d15ec2c1"
   },
   "outputs": [],
   "source": [
    "word2vec = api.load(\"word2vec-google-news-300\")"
   ]
  },
  {
   "cell_type": "code",
   "execution_count": 47,
   "metadata": {
    "colab": {
     "base_uri": "https://localhost:8080/"
    },
    "id": "NafmYHrkT5YD",
    "outputId": "3f01bb89-e321-4cc6-c182-678f29908d1c"
   },
   "outputs": [
    {
     "name": "stdout",
     "output_type": "stream",
     "text": [
      "(300,)\n"
     ]
    }
   ],
   "source": [
    "emb_line = [word2vec.get_vector(w) for w in filtered_line if w in word2vec]\n",
    "print(sum(emb_line).shape)"
   ]
  },
  {
   "cell_type": "markdown",
   "metadata": {
    "id": "LTS6LCkd6_E7"
   },
   "source": [
    "Нормализуем эмбеддинги, прежде чем обучать на них сеть. "
   ]
  },
  {
   "cell_type": "code",
   "execution_count": 48,
   "metadata": {
    "colab": {
     "base_uri": "https://localhost:8080/"
    },
    "id": "3PyLTZ6xf3Oq",
    "outputId": "79cf740a-043a-4e4f-e7e2-ef505fdab4c3"
   },
   "outputs": [
    {
     "name": "stdout",
     "output_type": "stream",
     "text": [
      "(300,)\n",
      "[False, False, False, False, False, False]\n"
     ]
    }
   ],
   "source": [
    "mean = np.mean(word2vec.vectors, 0)\n",
    "std = np.std(word2vec.vectors, 0)\n",
    "norm_emb_line = [(word2vec.get_vector(w) - mean) / std for w in filtered_line if w in word2vec and len(w) > 3]\n",
    "print(sum(norm_emb_line).shape)\n",
    "print([all(norm_emb_line[i] == emb_line[i]) for i in range(len(emb_line))])"
   ]
  },
  {
   "cell_type": "markdown",
   "metadata": {
    "id": "q7vm6Ppd7Ubw"
   },
   "source": [
    "Сделаем датасет, который будет по запросу возвращать подготовленные данные."
   ]
  },
  {
   "cell_type": "code",
   "execution_count": 6,
   "metadata": {
    "colab": {
     "base_uri": "https://localhost:8080/",
     "height": 133
    },
    "id": "b4eZajF7pZ1X",
    "outputId": "b60c722a-12d2-4fac-b971-9b95e1e12314"
   },
   "outputs": [],
   "source": [
    "from torch.utils.data import Dataset, random_split\n",
    "\n",
    "\n",
    "class TwitterDataset(Dataset):\n",
    "    def __init__(self, data: pd.DataFrame, feature_column: str, target_column: str, word2vec: gensim.models.Word2Vec):\n",
    "        self.tokenizer = nltk.WordPunctTokenizer()\n",
    "        \n",
    "        self.data = data\n",
    "\n",
    "        self.feature_column = feature_column\n",
    "        self.target_column = target_column\n",
    "\n",
    "        self.word2vec = word2vec\n",
    "\n",
    "        self.label2num = lambda label: 0 if label == 0 else 1\n",
    "        self.mean = np.mean(word2vec.vectors, axis=0)\n",
    "        self.std = np.std(word2vec.vectors, axis=0)\n",
    "\n",
    "    def __getitem__(self, item):\n",
    "        text = self.data[self.feature_column][item]\n",
    "        label = self.label2num(self.data[self.target_column][item])\n",
    "\n",
    "        tokens = self.get_tokens_(text)\n",
    "        embeddings = self.get_embeddings_(tokens)\n",
    "\n",
    "        return {\"feature\": embeddings, \"target\": label}\n",
    "\n",
    "    def get_tokens_(self, text):\n",
    "        tokens = self.tokenizer.tokenize(text)\n",
    "        filtered_tokens = [w for w in tokens if all(c not in string.punctuation for c in w) and len(w) > 3]\n",
    "    \n",
    "        return filtered_tokens\n",
    "\n",
    "\n",
    "    def get_embeddings_(self, tokens):\n",
    "        embeddings = [(word2vec.get_vector(w)-self.mean)/self.std for w in tokens if w in word2vec]\n",
    "\n",
    "        if len(embeddings) == 0:\n",
    "            embeddings = np.zeros((1, self.word2vec.vector_size))\n",
    "        else:\n",
    "            embeddings = np.array(embeddings)\n",
    "            if len(embeddings.shape) == 1:\n",
    "                embeddings = embeddings.reshape(-1, 1)\n",
    "\n",
    "        return embeddings\n",
    "\n",
    "    def __len__(self):\n",
    "        return self.data.shape[0]"
   ]
  },
  {
   "cell_type": "code",
   "execution_count": 8,
   "metadata": {
    "id": "IZJpttbXpZyz"
   },
   "outputs": [],
   "source": [
    "dev = TwitterDataset(dev_data, \"text\", \"emotion\", word2vec)"
   ]
  },
  {
   "cell_type": "markdown",
   "metadata": {
    "id": "Sr-aetH0_LH1"
   },
   "source": [
    "<!-- Отлично, мы готовы с помощью эмбеддингов слов превращать твиты в векторы и обучать нейронную сеть. -->\n",
    "\n",
    "Превращать твиты в векторы, используя эмбеддинги слов, можно несколькими способами. А именно такими:"
   ]
  },
  {
   "cell_type": "markdown",
   "metadata": {
    "id": "4AhHrWa196Yc"
   },
   "source": [
    "## Average embedding (2 балла)\n",
    "---\n",
    "Это самый простой вариант, как получить вектор предложения, используя векторные представления слов в предложении. А именно: вектор предложения есть средний вектор всех слов в предлоежнии (которые остались после токенизации и удаления коротких слов, конечно). "
   ]
  },
  {
   "cell_type": "code",
   "execution_count": 89,
   "metadata": {
    "id": "ScdokSW-994t"
   },
   "outputs": [
    {
     "name": "stdout",
     "output_type": "stream",
     "text": [
      "1280\n"
     ]
    }
   ],
   "source": [
    "indexes = np.arange(len(dev))\n",
    "np.random.shuffle(indexes)\n",
    "example_indexes = indexes[::1000]\n",
    "\n",
    "examples = {\"features\": [np.sum(dev[i][\"feature\"], axis=0) for i in example_indexes], \n",
    "            \"targets\": [dev[i][\"target\"] for i in example_indexes]}\n",
    "print(len(examples[\"features\"]))\n"
   ]
  },
  {
   "cell_type": "markdown",
   "metadata": {
    "id": "1yGQ_lOx_1NL"
   },
   "source": [
    "Сделаем визуализацию полученных векторов твитов тренировочного (dev) датасета. Так мы увидим, насколько хорошо твиты с разными target значениями отделяются друг от друга, т.е. насколько хорошо усреднение эмбеддингов слов предложения передает информацию о предложении."
   ]
  },
  {
   "cell_type": "code",
   "execution_count": 90,
   "metadata": {
    "id": "aKFZRSHdtIac"
   },
   "outputs": [],
   "source": [
    "from sklearn.decomposition import PCA\n",
    "\n",
    "pca = PCA(n_components=2)\n",
    "examples[\"transformed_features\"] = pca.fit_transform(np.array(examples[\"features\"]))"
   ]
  },
  {
   "cell_type": "code",
   "execution_count": 91,
   "metadata": {
    "id": "szEOWdiNtIX8"
   },
   "outputs": [
    {
     "data": {
      "text/html": [
       "\n",
       "    <div class=\"bk-root\">\n",
       "        <a href=\"https://bokeh.org\" target=\"_blank\" class=\"bk-logo bk-logo-small bk-logo-notebook\"></a>\n",
       "        <span id=\"1113\">Loading BokehJS ...</span>\n",
       "    </div>"
      ]
     },
     "metadata": {},
     "output_type": "display_data"
    },
    {
     "data": {
      "application/javascript": [
       "\n",
       "(function(root) {\n",
       "  function now() {\n",
       "    return new Date();\n",
       "  }\n",
       "\n",
       "  const force = true;\n",
       "\n",
       "  if (typeof root._bokeh_onload_callbacks === \"undefined\" || force === true) {\n",
       "    root._bokeh_onload_callbacks = [];\n",
       "    root._bokeh_is_loading = undefined;\n",
       "  }\n",
       "\n",
       "  const JS_MIME_TYPE = 'application/javascript';\n",
       "  const HTML_MIME_TYPE = 'text/html';\n",
       "  const EXEC_MIME_TYPE = 'application/vnd.bokehjs_exec.v0+json';\n",
       "  const CLASS_NAME = 'output_bokeh rendered_html';\n",
       "\n",
       "  /**\n",
       "   * Render data to the DOM node\n",
       "   */\n",
       "  function render(props, node) {\n",
       "    const script = document.createElement(\"script\");\n",
       "    node.appendChild(script);\n",
       "  }\n",
       "\n",
       "  /**\n",
       "   * Handle when an output is cleared or removed\n",
       "   */\n",
       "  function handleClearOutput(event, handle) {\n",
       "    const cell = handle.cell;\n",
       "\n",
       "    const id = cell.output_area._bokeh_element_id;\n",
       "    const server_id = cell.output_area._bokeh_server_id;\n",
       "    // Clean up Bokeh references\n",
       "    if (id != null && id in Bokeh.index) {\n",
       "      Bokeh.index[id].model.document.clear();\n",
       "      delete Bokeh.index[id];\n",
       "    }\n",
       "\n",
       "    if (server_id !== undefined) {\n",
       "      // Clean up Bokeh references\n",
       "      const cmd_clean = \"from bokeh.io.state import curstate; print(curstate().uuid_to_server['\" + server_id + \"'].get_sessions()[0].document.roots[0]._id)\";\n",
       "      cell.notebook.kernel.execute(cmd_clean, {\n",
       "        iopub: {\n",
       "          output: function(msg) {\n",
       "            const id = msg.content.text.trim();\n",
       "            if (id in Bokeh.index) {\n",
       "              Bokeh.index[id].model.document.clear();\n",
       "              delete Bokeh.index[id];\n",
       "            }\n",
       "          }\n",
       "        }\n",
       "      });\n",
       "      // Destroy server and session\n",
       "      const cmd_destroy = \"import bokeh.io.notebook as ion; ion.destroy_server('\" + server_id + \"')\";\n",
       "      cell.notebook.kernel.execute(cmd_destroy);\n",
       "    }\n",
       "  }\n",
       "\n",
       "  /**\n",
       "   * Handle when a new output is added\n",
       "   */\n",
       "  function handleAddOutput(event, handle) {\n",
       "    const output_area = handle.output_area;\n",
       "    const output = handle.output;\n",
       "\n",
       "    // limit handleAddOutput to display_data with EXEC_MIME_TYPE content only\n",
       "    if ((output.output_type != \"display_data\") || (!Object.prototype.hasOwnProperty.call(output.data, EXEC_MIME_TYPE))) {\n",
       "      return\n",
       "    }\n",
       "\n",
       "    const toinsert = output_area.element.find(\".\" + CLASS_NAME.split(' ')[0]);\n",
       "\n",
       "    if (output.metadata[EXEC_MIME_TYPE][\"id\"] !== undefined) {\n",
       "      toinsert[toinsert.length - 1].firstChild.textContent = output.data[JS_MIME_TYPE];\n",
       "      // store reference to embed id on output_area\n",
       "      output_area._bokeh_element_id = output.metadata[EXEC_MIME_TYPE][\"id\"];\n",
       "    }\n",
       "    if (output.metadata[EXEC_MIME_TYPE][\"server_id\"] !== undefined) {\n",
       "      const bk_div = document.createElement(\"div\");\n",
       "      bk_div.innerHTML = output.data[HTML_MIME_TYPE];\n",
       "      const script_attrs = bk_div.children[0].attributes;\n",
       "      for (let i = 0; i < script_attrs.length; i++) {\n",
       "        toinsert[toinsert.length - 1].firstChild.setAttribute(script_attrs[i].name, script_attrs[i].value);\n",
       "        toinsert[toinsert.length - 1].firstChild.textContent = bk_div.children[0].textContent\n",
       "      }\n",
       "      // store reference to server id on output_area\n",
       "      output_area._bokeh_server_id = output.metadata[EXEC_MIME_TYPE][\"server_id\"];\n",
       "    }\n",
       "  }\n",
       "\n",
       "  function register_renderer(events, OutputArea) {\n",
       "\n",
       "    function append_mime(data, metadata, element) {\n",
       "      // create a DOM node to render to\n",
       "      const toinsert = this.create_output_subarea(\n",
       "        metadata,\n",
       "        CLASS_NAME,\n",
       "        EXEC_MIME_TYPE\n",
       "      );\n",
       "      this.keyboard_manager.register_events(toinsert);\n",
       "      // Render to node\n",
       "      const props = {data: data, metadata: metadata[EXEC_MIME_TYPE]};\n",
       "      render(props, toinsert[toinsert.length - 1]);\n",
       "      element.append(toinsert);\n",
       "      return toinsert\n",
       "    }\n",
       "\n",
       "    /* Handle when an output is cleared or removed */\n",
       "    events.on('clear_output.CodeCell', handleClearOutput);\n",
       "    events.on('delete.Cell', handleClearOutput);\n",
       "\n",
       "    /* Handle when a new output is added */\n",
       "    events.on('output_added.OutputArea', handleAddOutput);\n",
       "\n",
       "    /**\n",
       "     * Register the mime type and append_mime function with output_area\n",
       "     */\n",
       "    OutputArea.prototype.register_mime_type(EXEC_MIME_TYPE, append_mime, {\n",
       "      /* Is output safe? */\n",
       "      safe: true,\n",
       "      /* Index of renderer in `output_area.display_order` */\n",
       "      index: 0\n",
       "    });\n",
       "  }\n",
       "\n",
       "  // register the mime type if in Jupyter Notebook environment and previously unregistered\n",
       "  if (root.Jupyter !== undefined) {\n",
       "    const events = require('base/js/events');\n",
       "    const OutputArea = require('notebook/js/outputarea').OutputArea;\n",
       "\n",
       "    if (OutputArea.prototype.mime_types().indexOf(EXEC_MIME_TYPE) == -1) {\n",
       "      register_renderer(events, OutputArea);\n",
       "    }\n",
       "  }\n",
       "\n",
       "  \n",
       "  if (typeof (root._bokeh_timeout) === \"undefined\" || force === true) {\n",
       "    root._bokeh_timeout = Date.now() + 5000;\n",
       "    root._bokeh_failed_load = false;\n",
       "  }\n",
       "\n",
       "  const NB_LOAD_WARNING = {'data': {'text/html':\n",
       "     \"<div style='background-color: #fdd'>\\n\"+\n",
       "     \"<p>\\n\"+\n",
       "     \"BokehJS does not appear to have successfully loaded. If loading BokehJS from CDN, this \\n\"+\n",
       "     \"may be due to a slow or bad network connection. Possible fixes:\\n\"+\n",
       "     \"</p>\\n\"+\n",
       "     \"<ul>\\n\"+\n",
       "     \"<li>re-rerun `output_notebook()` to attempt to load from CDN again, or</li>\\n\"+\n",
       "     \"<li>use INLINE resources instead, as so:</li>\\n\"+\n",
       "     \"</ul>\\n\"+\n",
       "     \"<code>\\n\"+\n",
       "     \"from bokeh.resources import INLINE\\n\"+\n",
       "     \"output_notebook(resources=INLINE)\\n\"+\n",
       "     \"</code>\\n\"+\n",
       "     \"</div>\"}};\n",
       "\n",
       "  function display_loaded() {\n",
       "    const el = document.getElementById(\"1113\");\n",
       "    if (el != null) {\n",
       "      el.textContent = \"BokehJS is loading...\";\n",
       "    }\n",
       "    if (root.Bokeh !== undefined) {\n",
       "      if (el != null) {\n",
       "        el.textContent = \"BokehJS \" + root.Bokeh.version + \" successfully loaded.\";\n",
       "      }\n",
       "    } else if (Date.now() < root._bokeh_timeout) {\n",
       "      setTimeout(display_loaded, 100)\n",
       "    }\n",
       "  }\n",
       "\n",
       "\n",
       "  function run_callbacks() {\n",
       "    try {\n",
       "      root._bokeh_onload_callbacks.forEach(function(callback) {\n",
       "        if (callback != null)\n",
       "          callback();\n",
       "      });\n",
       "    } finally {\n",
       "      delete root._bokeh_onload_callbacks\n",
       "    }\n",
       "    console.debug(\"Bokeh: all callbacks have finished\");\n",
       "  }\n",
       "\n",
       "  function load_libs(css_urls, js_urls, callback) {\n",
       "    if (css_urls == null) css_urls = [];\n",
       "    if (js_urls == null) js_urls = [];\n",
       "\n",
       "    root._bokeh_onload_callbacks.push(callback);\n",
       "    if (root._bokeh_is_loading > 0) {\n",
       "      console.debug(\"Bokeh: BokehJS is being loaded, scheduling callback at\", now());\n",
       "      return null;\n",
       "    }\n",
       "    if (js_urls == null || js_urls.length === 0) {\n",
       "      run_callbacks();\n",
       "      return null;\n",
       "    }\n",
       "    console.debug(\"Bokeh: BokehJS not loaded, scheduling load and callback at\", now());\n",
       "    root._bokeh_is_loading = css_urls.length + js_urls.length;\n",
       "\n",
       "    function on_load() {\n",
       "      root._bokeh_is_loading--;\n",
       "      if (root._bokeh_is_loading === 0) {\n",
       "        console.debug(\"Bokeh: all BokehJS libraries/stylesheets loaded\");\n",
       "        run_callbacks()\n",
       "      }\n",
       "    }\n",
       "\n",
       "    function on_error(url) {\n",
       "      console.error(\"failed to load \" + url);\n",
       "    }\n",
       "\n",
       "    for (let i = 0; i < css_urls.length; i++) {\n",
       "      const url = css_urls[i];\n",
       "      const element = document.createElement(\"link\");\n",
       "      element.onload = on_load;\n",
       "      element.onerror = on_error.bind(null, url);\n",
       "      element.rel = \"stylesheet\";\n",
       "      element.type = \"text/css\";\n",
       "      element.href = url;\n",
       "      console.debug(\"Bokeh: injecting link tag for BokehJS stylesheet: \", url);\n",
       "      document.body.appendChild(element);\n",
       "    }\n",
       "\n",
       "    for (let i = 0; i < js_urls.length; i++) {\n",
       "      const url = js_urls[i];\n",
       "      const element = document.createElement('script');\n",
       "      element.onload = on_load;\n",
       "      element.onerror = on_error.bind(null, url);\n",
       "      element.async = false;\n",
       "      element.src = url;\n",
       "      console.debug(\"Bokeh: injecting script tag for BokehJS library: \", url);\n",
       "      document.head.appendChild(element);\n",
       "    }\n",
       "  };\n",
       "\n",
       "  function inject_raw_css(css) {\n",
       "    const element = document.createElement(\"style\");\n",
       "    element.appendChild(document.createTextNode(css));\n",
       "    document.body.appendChild(element);\n",
       "  }\n",
       "\n",
       "  \n",
       "  const js_urls = [\"https://cdn.bokeh.org/bokeh/release/bokeh-2.4.0.min.js\", \"https://cdn.bokeh.org/bokeh/release/bokeh-gl-2.4.0.min.js\", \"https://cdn.bokeh.org/bokeh/release/bokeh-widgets-2.4.0.min.js\", \"https://cdn.bokeh.org/bokeh/release/bokeh-tables-2.4.0.min.js\", \"https://cdn.bokeh.org/bokeh/release/bokeh-mathjax-2.4.0.min.js\"];\n",
       "  const css_urls = [];\n",
       "  \n",
       "\n",
       "  const inline_js = [\n",
       "    function(Bokeh) {\n",
       "      Bokeh.set_log_level(\"info\");\n",
       "    },\n",
       "    function(Bokeh) {\n",
       "    \n",
       "    \n",
       "    }\n",
       "  ];\n",
       "\n",
       "  function run_inline_js() {\n",
       "    \n",
       "    if (root.Bokeh !== undefined || force === true) {\n",
       "      \n",
       "    for (let i = 0; i < inline_js.length; i++) {\n",
       "      inline_js[i].call(root, root.Bokeh);\n",
       "    }\n",
       "    if (force === true) {\n",
       "        display_loaded();\n",
       "      }} else if (Date.now() < root._bokeh_timeout) {\n",
       "      setTimeout(run_inline_js, 100);\n",
       "    } else if (!root._bokeh_failed_load) {\n",
       "      console.log(\"Bokeh: BokehJS failed to load within specified timeout.\");\n",
       "      root._bokeh_failed_load = true;\n",
       "    } else if (force !== true) {\n",
       "      const cell = $(document.getElementById(\"1113\")).parents('.cell').data().cell;\n",
       "      cell.output_area.append_execute_result(NB_LOAD_WARNING)\n",
       "    }\n",
       "\n",
       "  }\n",
       "\n",
       "  if (root._bokeh_is_loading === 0) {\n",
       "    console.debug(\"Bokeh: BokehJS loaded, going straight to plotting\");\n",
       "    run_inline_js();\n",
       "  } else {\n",
       "    load_libs(css_urls, js_urls, function() {\n",
       "      console.debug(\"Bokeh: BokehJS plotting callback run at\", now());\n",
       "      run_inline_js();\n",
       "    });\n",
       "  }\n",
       "}(window));"
      ],
      "application/vnd.bokehjs_load.v0+json": "\n(function(root) {\n  function now() {\n    return new Date();\n  }\n\n  const force = true;\n\n  if (typeof root._bokeh_onload_callbacks === \"undefined\" || force === true) {\n    root._bokeh_onload_callbacks = [];\n    root._bokeh_is_loading = undefined;\n  }\n\n  \n\n  \n  if (typeof (root._bokeh_timeout) === \"undefined\" || force === true) {\n    root._bokeh_timeout = Date.now() + 5000;\n    root._bokeh_failed_load = false;\n  }\n\n  const NB_LOAD_WARNING = {'data': {'text/html':\n     \"<div style='background-color: #fdd'>\\n\"+\n     \"<p>\\n\"+\n     \"BokehJS does not appear to have successfully loaded. If loading BokehJS from CDN, this \\n\"+\n     \"may be due to a slow or bad network connection. Possible fixes:\\n\"+\n     \"</p>\\n\"+\n     \"<ul>\\n\"+\n     \"<li>re-rerun `output_notebook()` to attempt to load from CDN again, or</li>\\n\"+\n     \"<li>use INLINE resources instead, as so:</li>\\n\"+\n     \"</ul>\\n\"+\n     \"<code>\\n\"+\n     \"from bokeh.resources import INLINE\\n\"+\n     \"output_notebook(resources=INLINE)\\n\"+\n     \"</code>\\n\"+\n     \"</div>\"}};\n\n  function display_loaded() {\n    const el = document.getElementById(\"1113\");\n    if (el != null) {\n      el.textContent = \"BokehJS is loading...\";\n    }\n    if (root.Bokeh !== undefined) {\n      if (el != null) {\n        el.textContent = \"BokehJS \" + root.Bokeh.version + \" successfully loaded.\";\n      }\n    } else if (Date.now() < root._bokeh_timeout) {\n      setTimeout(display_loaded, 100)\n    }\n  }\n\n\n  function run_callbacks() {\n    try {\n      root._bokeh_onload_callbacks.forEach(function(callback) {\n        if (callback != null)\n          callback();\n      });\n    } finally {\n      delete root._bokeh_onload_callbacks\n    }\n    console.debug(\"Bokeh: all callbacks have finished\");\n  }\n\n  function load_libs(css_urls, js_urls, callback) {\n    if (css_urls == null) css_urls = [];\n    if (js_urls == null) js_urls = [];\n\n    root._bokeh_onload_callbacks.push(callback);\n    if (root._bokeh_is_loading > 0) {\n      console.debug(\"Bokeh: BokehJS is being loaded, scheduling callback at\", now());\n      return null;\n    }\n    if (js_urls == null || js_urls.length === 0) {\n      run_callbacks();\n      return null;\n    }\n    console.debug(\"Bokeh: BokehJS not loaded, scheduling load and callback at\", now());\n    root._bokeh_is_loading = css_urls.length + js_urls.length;\n\n    function on_load() {\n      root._bokeh_is_loading--;\n      if (root._bokeh_is_loading === 0) {\n        console.debug(\"Bokeh: all BokehJS libraries/stylesheets loaded\");\n        run_callbacks()\n      }\n    }\n\n    function on_error(url) {\n      console.error(\"failed to load \" + url);\n    }\n\n    for (let i = 0; i < css_urls.length; i++) {\n      const url = css_urls[i];\n      const element = document.createElement(\"link\");\n      element.onload = on_load;\n      element.onerror = on_error.bind(null, url);\n      element.rel = \"stylesheet\";\n      element.type = \"text/css\";\n      element.href = url;\n      console.debug(\"Bokeh: injecting link tag for BokehJS stylesheet: \", url);\n      document.body.appendChild(element);\n    }\n\n    for (let i = 0; i < js_urls.length; i++) {\n      const url = js_urls[i];\n      const element = document.createElement('script');\n      element.onload = on_load;\n      element.onerror = on_error.bind(null, url);\n      element.async = false;\n      element.src = url;\n      console.debug(\"Bokeh: injecting script tag for BokehJS library: \", url);\n      document.head.appendChild(element);\n    }\n  };\n\n  function inject_raw_css(css) {\n    const element = document.createElement(\"style\");\n    element.appendChild(document.createTextNode(css));\n    document.body.appendChild(element);\n  }\n\n  \n  const js_urls = [\"https://cdn.bokeh.org/bokeh/release/bokeh-2.4.0.min.js\", \"https://cdn.bokeh.org/bokeh/release/bokeh-gl-2.4.0.min.js\", \"https://cdn.bokeh.org/bokeh/release/bokeh-widgets-2.4.0.min.js\", \"https://cdn.bokeh.org/bokeh/release/bokeh-tables-2.4.0.min.js\", \"https://cdn.bokeh.org/bokeh/release/bokeh-mathjax-2.4.0.min.js\"];\n  const css_urls = [];\n  \n\n  const inline_js = [\n    function(Bokeh) {\n      Bokeh.set_log_level(\"info\");\n    },\n    function(Bokeh) {\n    \n    \n    }\n  ];\n\n  function run_inline_js() {\n    \n    if (root.Bokeh !== undefined || force === true) {\n      \n    for (let i = 0; i < inline_js.length; i++) {\n      inline_js[i].call(root, root.Bokeh);\n    }\n    if (force === true) {\n        display_loaded();\n      }} else if (Date.now() < root._bokeh_timeout) {\n      setTimeout(run_inline_js, 100);\n    } else if (!root._bokeh_failed_load) {\n      console.log(\"Bokeh: BokehJS failed to load within specified timeout.\");\n      root._bokeh_failed_load = true;\n    } else if (force !== true) {\n      const cell = $(document.getElementById(\"1113\")).parents('.cell').data().cell;\n      cell.output_area.append_execute_result(NB_LOAD_WARNING)\n    }\n\n  }\n\n  if (root._bokeh_is_loading === 0) {\n    console.debug(\"Bokeh: BokehJS loaded, going straight to plotting\");\n    run_inline_js();\n  } else {\n    load_libs(css_urls, js_urls, function() {\n      console.debug(\"Bokeh: BokehJS plotting callback run at\", now());\n      run_inline_js();\n    });\n  }\n}(window));"
     },
     "metadata": {},
     "output_type": "display_data"
    }
   ],
   "source": [
    "import bokeh.models as bm, bokeh.plotting as pl\n",
    "from bokeh.io import output_notebook\n",
    "output_notebook()\n",
    "\n",
    "def draw_vectors(x, y, radius=10, alpha=0.25, color='blue',\n",
    "                 width=600, height=400, show=True, **kwargs):\n",
    "    \"\"\" draws an interactive plot for data points with auxilirary info on hover \"\"\"\n",
    "    data_source = bm.ColumnDataSource({ 'x' : x, 'y' : y, 'color': color, **kwargs })\n",
    "\n",
    "    fig = pl.figure(active_scroll='wheel_zoom', width=width, height=height)\n",
    "    fig.scatter('x', 'y', size=radius, color='color', alpha=alpha, source=data_source)\n",
    "\n",
    "    fig.add_tools(bm.HoverTool(tooltips=[(key, \"@\" + key) for key in kwargs.keys()]))\n",
    "    if show: pl.show(fig)\n",
    "    return fig"
   ]
  },
  {
   "cell_type": "code",
   "execution_count": 92,
   "metadata": {
    "id": "7OONK8ldtIWe"
   },
   "outputs": [
    {
     "data": {
      "text/html": [
       "\n",
       "\n",
       "\n",
       "\n",
       "\n",
       "\n",
       "  <div class=\"bk-root\" id=\"d832fa2b-8cd5-43f1-b12d-8b2bb4d3d593\" data-root-id=\"1115\"></div>\n"
      ]
     },
     "metadata": {},
     "output_type": "display_data"
    },
    {
     "data": {
      "application/javascript": [
       "(function(root) {\n",
       "  function embed_document(root) {\n",
       "    \n",
       "  const docs_json = {\"bed6495f-fd09-4944-8c33-a90347f80c61\":{\"defs\":[],\"roots\":{\"references\":[{\"attributes\":{\"below\":[{\"id\":\"1124\"}],\"center\":[{\"id\":\"1127\"},{\"id\":\"1131\"}],\"height\":400,\"left\":[{\"id\":\"1128\"}],\"renderers\":[{\"id\":\"1150\"}],\"title\":{\"id\":\"1165\"},\"toolbar\":{\"id\":\"1139\"},\"x_range\":{\"id\":\"1116\"},\"x_scale\":{\"id\":\"1120\"},\"y_range\":{\"id\":\"1118\"},\"y_scale\":{\"id\":\"1122\"}},\"id\":\"1115\",\"subtype\":\"Figure\",\"type\":\"Plot\"},{\"attributes\":{\"bottom_units\":\"screen\",\"coordinates\":null,\"fill_alpha\":0.5,\"fill_color\":\"lightgrey\",\"group\":null,\"left_units\":\"screen\",\"level\":\"overlay\",\"line_alpha\":1.0,\"line_color\":\"black\",\"line_dash\":[4,4],\"line_width\":2,\"right_units\":\"screen\",\"syncable\":false,\"top_units\":\"screen\"},\"id\":\"1138\",\"type\":\"BoxAnnotation\"},{\"attributes\":{},\"id\":\"1120\",\"type\":\"LinearScale\"},{\"attributes\":{},\"id\":\"1135\",\"type\":\"SaveTool\"},{\"attributes\":{},\"id\":\"1136\",\"type\":\"ResetTool\"},{\"attributes\":{\"coordinates\":null,\"formatter\":{\"id\":\"1171\"},\"group\":null,\"major_label_policy\":{\"id\":\"1172\"},\"ticker\":{\"id\":\"1125\"}},\"id\":\"1124\",\"type\":\"LinearAxis\"},{\"attributes\":{\"fill_alpha\":{\"value\":0.25},\"fill_color\":{\"field\":\"color\"},\"hatch_alpha\":{\"value\":0.25},\"hatch_color\":{\"field\":\"color\"},\"line_alpha\":{\"value\":0.25},\"line_color\":{\"field\":\"color\"},\"size\":{\"value\":10},\"x\":{\"field\":\"x\"},\"y\":{\"field\":\"y\"}},\"id\":\"1147\",\"type\":\"Scatter\"},{\"attributes\":{},\"id\":\"1118\",\"type\":\"DataRange1d\"},{\"attributes\":{},\"id\":\"1169\",\"type\":\"AllLabels\"},{\"attributes\":{\"coordinates\":null,\"data_source\":{\"id\":\"1114\"},\"glyph\":{\"id\":\"1147\"},\"group\":null,\"hover_glyph\":null,\"muted_glyph\":{\"id\":\"1149\"},\"nonselection_glyph\":{\"id\":\"1148\"},\"view\":{\"id\":\"1151\"}},\"id\":\"1150\",\"type\":\"GlyphRenderer\"},{\"attributes\":{},\"id\":\"1116\",\"type\":\"DataRange1d\"},{\"attributes\":{\"fill_alpha\":{\"value\":0.1},\"fill_color\":{\"field\":\"color\"},\"hatch_alpha\":{\"value\":0.1},\"hatch_color\":{\"field\":\"color\"},\"line_alpha\":{\"value\":0.1},\"line_color\":{\"field\":\"color\"},\"size\":{\"value\":10},\"x\":{\"field\":\"x\"},\"y\":{\"field\":\"y\"}},\"id\":\"1148\",\"type\":\"Scatter\"},{\"attributes\":{},\"id\":\"1125\",\"type\":\"BasicTicker\"},{\"attributes\":{\"source\":{\"id\":\"1114\"}},\"id\":\"1151\",\"type\":\"CDSView\"},{\"attributes\":{},\"id\":\"1137\",\"type\":\"HelpTool\"},{\"attributes\":{\"coordinates\":null,\"formatter\":{\"id\":\"1168\"},\"group\":null,\"major_label_policy\":{\"id\":\"1169\"},\"ticker\":{\"id\":\"1129\"}},\"id\":\"1128\",\"type\":\"LinearAxis\"},{\"attributes\":{\"active_scroll\":{\"id\":\"1133\"},\"tools\":[{\"id\":\"1132\"},{\"id\":\"1133\"},{\"id\":\"1134\"},{\"id\":\"1135\"},{\"id\":\"1136\"},{\"id\":\"1137\"},{\"id\":\"1152\"}]},\"id\":\"1139\",\"type\":\"Toolbar\"},{\"attributes\":{},\"id\":\"1129\",\"type\":\"BasicTicker\"},{\"attributes\":{\"axis\":{\"id\":\"1124\"},\"coordinates\":null,\"group\":null,\"ticker\":null},\"id\":\"1127\",\"type\":\"Grid\"},{\"attributes\":{},\"id\":\"1171\",\"type\":\"BasicTickFormatter\"},{\"attributes\":{\"fill_alpha\":{\"value\":0.2},\"fill_color\":{\"field\":\"color\"},\"hatch_alpha\":{\"value\":0.2},\"hatch_color\":{\"field\":\"color\"},\"line_alpha\":{\"value\":0.2},\"line_color\":{\"field\":\"color\"},\"size\":{\"value\":10},\"x\":{\"field\":\"x\"},\"y\":{\"field\":\"y\"}},\"id\":\"1149\",\"type\":\"Scatter\"},{\"attributes\":{},\"id\":\"1168\",\"type\":\"BasicTickFormatter\"},{\"attributes\":{},\"id\":\"1132\",\"type\":\"PanTool\"},{\"attributes\":{\"coordinates\":null,\"group\":null},\"id\":\"1165\",\"type\":\"Title\"},{\"attributes\":{\"callback\":null,\"tooltips\":[]},\"id\":\"1152\",\"type\":\"HoverTool\"},{\"attributes\":{},\"id\":\"1174\",\"type\":\"Selection\"},{\"attributes\":{\"data\":{\"color\":[\"red\",\"red\",\"blue\",\"red\",\"blue\",\"blue\",\"red\",\"blue\",\"blue\",\"red\",\"red\",\"red\",\"red\",\"blue\",\"red\",\"blue\",\"red\",\"blue\",\"red\",\"red\",\"blue\",\"blue\",\"blue\",\"red\",\"blue\",\"blue\",\"red\",\"red\",\"red\",\"red\",\"blue\",\"blue\",\"blue\",\"blue\",\"red\",\"blue\",\"blue\",\"blue\",\"red\",\"blue\",\"red\",\"red\",\"blue\",\"red\",\"blue\",\"red\",\"blue\",\"blue\",\"red\",\"red\",\"red\",\"blue\",\"red\",\"red\",\"red\",\"red\",\"blue\",\"red\",\"red\",\"blue\",\"red\",\"blue\",\"red\",\"red\",\"red\",\"red\",\"red\",\"blue\",\"red\",\"red\",\"red\",\"blue\",\"red\",\"red\",\"blue\",\"red\",\"blue\",\"red\",\"red\",\"red\",\"blue\",\"red\",\"blue\",\"red\",\"red\",\"blue\",\"red\",\"blue\",\"blue\",\"blue\",\"blue\",\"blue\",\"blue\",\"blue\",\"blue\",\"blue\",\"red\",\"blue\",\"red\",\"red\",\"red\",\"red\",\"blue\",\"red\",\"blue\",\"red\",\"red\",\"blue\",\"red\",\"blue\",\"blue\",\"red\",\"blue\",\"red\",\"red\",\"blue\",\"red\",\"blue\",\"blue\",\"red\",\"red\",\"blue\",\"blue\",\"red\",\"red\",\"blue\",\"blue\",\"blue\",\"blue\",\"blue\",\"blue\",\"blue\",\"blue\",\"blue\",\"blue\",\"blue\",\"red\",\"red\",\"blue\",\"blue\",\"blue\",\"blue\",\"blue\",\"blue\",\"blue\",\"blue\",\"red\",\"red\",\"red\",\"red\",\"red\",\"red\",\"red\",\"red\",\"red\",\"red\",\"blue\",\"blue\",\"blue\",\"red\",\"red\",\"red\",\"red\",\"red\",\"blue\",\"red\",\"blue\",\"red\",\"red\",\"blue\",\"blue\",\"red\",\"blue\",\"red\",\"red\",\"red\",\"red\",\"red\",\"red\",\"red\",\"red\",\"blue\",\"blue\",\"blue\",\"red\",\"blue\",\"blue\",\"blue\",\"blue\",\"red\",\"red\",\"red\",\"red\",\"blue\",\"blue\",\"red\",\"red\",\"blue\",\"blue\",\"blue\",\"blue\",\"blue\",\"red\",\"blue\",\"blue\",\"blue\",\"red\",\"red\",\"red\",\"red\",\"blue\",\"red\",\"blue\",\"red\",\"blue\",\"red\",\"red\",\"blue\",\"red\",\"red\",\"blue\",\"red\",\"blue\",\"blue\",\"blue\",\"red\",\"blue\",\"blue\",\"red\",\"red\",\"red\",\"blue\",\"red\",\"blue\",\"blue\",\"red\",\"blue\",\"blue\",\"blue\",\"blue\",\"blue\",\"red\",\"blue\",\"blue\",\"blue\",\"blue\",\"blue\",\"red\",\"red\",\"red\",\"red\",\"blue\",\"blue\",\"blue\",\"red\",\"red\",\"blue\",\"red\",\"blue\",\"blue\",\"red\",\"red\",\"red\",\"red\",\"red\",\"blue\",\"blue\",\"blue\",\"red\",\"red\",\"blue\",\"red\",\"blue\",\"blue\",\"blue\",\"red\",\"red\",\"blue\",\"blue\",\"red\",\"red\",\"red\",\"blue\",\"red\",\"blue\",\"red\",\"red\",\"blue\",\"red\",\"red\",\"red\",\"blue\",\"red\",\"red\",\"blue\",\"blue\",\"blue\",\"red\",\"red\",\"red\",\"blue\",\"red\",\"red\",\"red\",\"red\",\"blue\",\"red\",\"blue\",\"red\",\"blue\",\"blue\",\"red\",\"blue\",\"blue\",\"red\",\"blue\",\"blue\",\"red\",\"blue\",\"blue\",\"red\",\"red\",\"red\",\"red\",\"red\",\"red\",\"blue\",\"red\",\"red\",\"blue\",\"blue\",\"red\",\"blue\",\"red\",\"red\",\"blue\",\"blue\",\"red\",\"blue\",\"blue\",\"blue\",\"red\",\"blue\",\"red\",\"blue\",\"blue\",\"blue\",\"red\",\"red\",\"red\",\"blue\",\"red\",\"blue\",\"blue\",\"red\",\"red\",\"red\",\"red\",\"red\",\"red\",\"red\",\"blue\",\"blue\",\"blue\",\"red\",\"blue\",\"blue\",\"red\",\"blue\",\"blue\",\"red\",\"red\",\"red\",\"red\",\"blue\",\"red\",\"blue\",\"red\",\"red\",\"red\",\"red\",\"red\",\"blue\",\"red\",\"blue\",\"red\",\"blue\",\"blue\",\"blue\",\"red\",\"blue\",\"blue\",\"blue\",\"blue\",\"blue\",\"red\",\"blue\",\"blue\",\"blue\",\"blue\",\"blue\",\"blue\",\"blue\",\"red\",\"blue\",\"blue\",\"red\",\"blue\",\"red\",\"blue\",\"red\",\"red\",\"red\",\"blue\",\"red\",\"blue\",\"blue\",\"red\",\"blue\",\"red\",\"blue\",\"blue\",\"blue\",\"red\",\"blue\",\"blue\",\"red\",\"blue\",\"blue\",\"blue\",\"red\",\"red\",\"red\",\"blue\",\"blue\",\"blue\",\"red\",\"red\",\"blue\",\"blue\",\"blue\",\"blue\",\"blue\",\"red\",\"red\",\"blue\",\"blue\",\"red\",\"blue\",\"blue\",\"red\",\"red\",\"blue\",\"red\",\"blue\",\"blue\",\"red\",\"blue\",\"blue\",\"red\",\"blue\",\"blue\",\"blue\",\"blue\",\"red\",\"red\",\"blue\",\"blue\",\"red\",\"blue\",\"red\",\"blue\",\"blue\",\"red\",\"red\",\"blue\",\"blue\",\"red\",\"red\",\"red\",\"red\",\"red\",\"red\",\"blue\",\"blue\",\"red\",\"blue\",\"blue\",\"blue\",\"red\",\"blue\",\"red\",\"red\",\"red\",\"blue\",\"red\",\"red\",\"red\",\"blue\",\"red\",\"red\",\"red\",\"red\",\"blue\",\"blue\",\"blue\",\"red\",\"red\",\"red\",\"blue\",\"blue\",\"blue\",\"blue\",\"red\",\"blue\",\"blue\",\"red\",\"red\",\"blue\",\"red\",\"red\",\"blue\",\"red\",\"blue\",\"red\",\"blue\",\"blue\",\"blue\",\"red\",\"red\",\"red\",\"red\",\"red\",\"blue\",\"red\",\"blue\",\"blue\",\"red\",\"blue\",\"red\",\"blue\",\"red\",\"blue\",\"red\",\"red\",\"red\",\"blue\",\"blue\",\"blue\",\"red\",\"red\",\"blue\",\"blue\",\"red\",\"blue\",\"blue\",\"red\",\"blue\",\"blue\",\"red\",\"red\",\"blue\",\"blue\",\"blue\",\"blue\",\"red\",\"blue\",\"blue\",\"blue\",\"red\",\"blue\",\"red\",\"blue\",\"blue\",\"red\",\"blue\",\"red\",\"blue\",\"blue\",\"red\",\"red\",\"blue\",\"red\",\"blue\",\"blue\",\"blue\",\"red\",\"blue\",\"blue\",\"blue\",\"red\",\"blue\",\"red\",\"blue\",\"blue\",\"blue\",\"red\",\"red\",\"blue\",\"blue\",\"blue\",\"red\",\"red\",\"red\",\"red\",\"red\",\"blue\",\"blue\",\"blue\",\"red\",\"red\",\"red\",\"red\",\"blue\",\"red\",\"red\",\"red\",\"red\",\"red\",\"blue\",\"blue\",\"red\",\"red\",\"red\",\"blue\",\"red\",\"blue\",\"blue\",\"red\",\"red\",\"red\",\"blue\",\"red\",\"blue\",\"blue\",\"red\",\"blue\",\"blue\",\"blue\",\"blue\",\"red\",\"blue\",\"blue\",\"blue\",\"red\",\"blue\",\"red\",\"red\",\"blue\",\"blue\",\"blue\",\"red\",\"blue\",\"blue\",\"blue\",\"red\",\"red\",\"red\",\"blue\",\"blue\",\"blue\",\"red\",\"red\",\"red\",\"red\",\"red\",\"red\",\"red\",\"red\",\"red\",\"blue\",\"blue\",\"blue\",\"blue\",\"blue\",\"blue\",\"red\",\"blue\",\"red\",\"red\",\"blue\",\"blue\",\"red\",\"blue\",\"red\",\"red\",\"blue\",\"blue\",\"red\",\"red\",\"blue\",\"blue\",\"red\",\"blue\",\"red\",\"red\",\"blue\",\"blue\",\"blue\",\"blue\",\"red\",\"red\",\"blue\",\"red\",\"blue\",\"blue\",\"blue\",\"red\",\"red\",\"red\",\"red\",\"blue\",\"red\",\"blue\",\"blue\",\"blue\",\"blue\",\"red\",\"blue\",\"red\",\"blue\",\"red\",\"blue\",\"blue\",\"blue\",\"blue\",\"blue\",\"red\",\"blue\",\"red\",\"blue\",\"blue\",\"red\",\"red\",\"red\",\"red\",\"red\",\"red\",\"red\",\"blue\",\"blue\",\"blue\",\"red\",\"red\",\"blue\",\"red\",\"red\",\"blue\",\"red\",\"red\",\"blue\",\"red\",\"red\",\"red\",\"blue\",\"red\",\"blue\",\"red\",\"blue\",\"red\",\"blue\",\"blue\",\"blue\",\"red\",\"blue\",\"blue\",\"red\",\"blue\",\"blue\",\"red\",\"red\",\"blue\",\"red\",\"blue\",\"red\",\"blue\",\"blue\",\"red\",\"blue\",\"red\",\"blue\",\"red\",\"red\",\"red\",\"blue\",\"blue\",\"blue\",\"red\",\"blue\",\"red\",\"red\",\"red\",\"blue\",\"red\",\"red\",\"red\",\"red\",\"blue\",\"blue\",\"red\",\"blue\",\"blue\",\"red\",\"red\",\"red\",\"blue\",\"red\",\"red\",\"blue\",\"blue\",\"blue\",\"blue\",\"red\",\"red\",\"red\",\"red\",\"red\",\"red\",\"red\",\"blue\",\"red\",\"blue\",\"blue\",\"red\",\"red\",\"red\",\"red\",\"blue\",\"blue\",\"red\",\"red\",\"red\",\"blue\",\"blue\",\"blue\",\"red\",\"blue\",\"red\",\"blue\",\"blue\",\"blue\",\"red\",\"red\",\"blue\",\"blue\",\"red\",\"blue\",\"blue\",\"blue\",\"blue\",\"blue\",\"red\",\"red\",\"blue\",\"blue\",\"red\",\"blue\",\"red\",\"red\",\"red\",\"blue\",\"blue\",\"blue\",\"red\",\"red\",\"blue\",\"red\",\"blue\",\"blue\",\"blue\",\"blue\",\"red\",\"blue\",\"blue\",\"red\",\"red\",\"blue\",\"red\",\"blue\",\"blue\",\"red\",\"blue\",\"blue\",\"red\",\"red\",\"red\",\"red\",\"red\",\"red\",\"blue\",\"blue\",\"red\",\"red\",\"blue\",\"blue\",\"blue\",\"blue\",\"red\",\"blue\",\"red\",\"red\",\"red\",\"red\",\"red\",\"red\",\"blue\",\"red\",\"red\",\"blue\",\"red\",\"blue\",\"red\",\"blue\",\"red\",\"red\",\"blue\",\"red\",\"blue\",\"red\",\"blue\",\"red\",\"blue\",\"red\",\"blue\",\"red\",\"blue\",\"red\",\"red\",\"blue\",\"red\",\"blue\",\"blue\",\"blue\",\"blue\",\"blue\",\"blue\",\"blue\",\"red\",\"red\",\"red\",\"blue\",\"blue\",\"red\",\"blue\",\"red\",\"red\",\"red\",\"red\",\"red\",\"red\",\"blue\",\"red\",\"blue\",\"blue\",\"blue\",\"blue\",\"blue\",\"red\",\"red\",\"red\",\"red\",\"red\",\"blue\",\"red\",\"blue\",\"red\",\"red\",\"red\",\"red\",\"red\",\"red\",\"blue\",\"red\",\"blue\",\"red\",\"red\",\"blue\",\"blue\",\"red\",\"red\",\"blue\",\"red\",\"red\",\"red\",\"blue\",\"red\",\"red\",\"red\",\"red\",\"blue\",\"blue\",\"blue\",\"red\",\"red\",\"red\",\"red\",\"red\",\"blue\",\"red\",\"blue\",\"blue\",\"red\",\"blue\",\"red\",\"blue\",\"blue\",\"blue\",\"red\",\"red\",\"red\",\"blue\",\"blue\",\"red\",\"red\",\"red\",\"red\",\"blue\",\"red\",\"red\",\"red\",\"red\",\"blue\",\"red\",\"blue\",\"blue\",\"blue\",\"red\",\"red\",\"red\",\"red\",\"blue\",\"red\",\"red\",\"blue\",\"red\",\"blue\",\"red\",\"blue\",\"red\",\"red\",\"blue\",\"blue\",\"red\",\"red\",\"red\",\"red\",\"red\",\"blue\",\"blue\",\"red\",\"red\",\"blue\",\"blue\",\"red\",\"blue\",\"red\",\"red\",\"red\",\"red\",\"red\",\"blue\",\"red\",\"red\",\"blue\",\"blue\",\"blue\",\"blue\",\"blue\",\"blue\",\"red\",\"red\",\"red\",\"blue\",\"blue\",\"red\",\"blue\",\"red\",\"blue\",\"red\",\"red\",\"blue\",\"blue\",\"blue\",\"blue\",\"blue\",\"blue\",\"red\",\"red\",\"red\",\"blue\",\"red\",\"red\",\"blue\",\"blue\",\"red\",\"red\",\"blue\",\"blue\",\"red\",\"blue\",\"red\",\"blue\",\"blue\",\"blue\",\"red\",\"red\",\"red\",\"blue\",\"red\",\"blue\",\"red\",\"blue\",\"blue\",\"red\",\"blue\",\"red\",\"blue\",\"red\",\"red\",\"red\",\"red\",\"red\",\"red\",\"red\",\"blue\",\"blue\",\"blue\",\"blue\",\"red\",\"red\",\"red\",\"blue\",\"red\",\"blue\",\"red\",\"red\",\"red\",\"blue\",\"blue\",\"red\",\"red\",\"red\",\"blue\",\"red\",\"red\",\"red\",\"red\",\"blue\",\"blue\",\"red\",\"red\",\"blue\",\"red\",\"red\",\"blue\",\"red\",\"red\",\"red\",\"blue\",\"red\",\"blue\",\"red\",\"red\",\"red\",\"blue\",\"red\",\"red\",\"red\",\"red\",\"red\",\"red\",\"red\",\"blue\",\"blue\",\"blue\",\"red\",\"blue\",\"blue\",\"blue\",\"red\",\"red\",\"blue\",\"red\",\"blue\",\"blue\",\"blue\",\"red\",\"blue\",\"red\",\"blue\",\"blue\",\"red\",\"red\",\"blue\",\"red\",\"blue\",\"red\",\"blue\",\"blue\",\"blue\",\"red\",\"red\",\"blue\",\"red\",\"blue\",\"red\",\"blue\",\"blue\",\"blue\",\"blue\",\"red\",\"blue\",\"blue\",\"blue\",\"blue\",\"red\",\"blue\",\"red\",\"red\",\"blue\",\"red\",\"red\",\"red\",\"blue\",\"blue\",\"blue\",\"red\",\"red\",\"red\",\"blue\",\"blue\",\"red\",\"red\",\"red\",\"blue\",\"blue\",\"red\",\"red\",\"blue\",\"red\",\"blue\",\"red\",\"blue\",\"red\",\"blue\",\"red\",\"red\",\"red\",\"blue\",\"blue\",\"blue\",\"red\",\"red\",\"blue\",\"blue\",\"red\",\"blue\",\"red\",\"red\",\"blue\",\"blue\",\"blue\",\"red\",\"blue\",\"blue\",\"blue\",\"red\",\"red\",\"red\",\"blue\",\"red\",\"blue\",\"red\",\"blue\",\"blue\",\"blue\",\"blue\",\"blue\",\"red\",\"blue\"],\"x\":{\"__ndarray__\":\"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\",\"dtype\":\"float64\",\"order\":\"little\",\"shape\":[1280]},\"y\":{\"__ndarray__\":\"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\",\"dtype\":\"float64\",\"order\":\"little\",\"shape\":[1280]}},\"selected\":{\"id\":\"1174\"},\"selection_policy\":{\"id\":\"1173\"}},\"id\":\"1114\",\"type\":\"ColumnDataSource\"},{\"attributes\":{\"overlay\":{\"id\":\"1138\"}},\"id\":\"1134\",\"type\":\"BoxZoomTool\"},{\"attributes\":{},\"id\":\"1172\",\"type\":\"AllLabels\"},{\"attributes\":{},\"id\":\"1133\",\"type\":\"WheelZoomTool\"},{\"attributes\":{},\"id\":\"1122\",\"type\":\"LinearScale\"},{\"attributes\":{},\"id\":\"1173\",\"type\":\"UnionRenderers\"},{\"attributes\":{\"axis\":{\"id\":\"1128\"},\"coordinates\":null,\"dimension\":1,\"group\":null,\"ticker\":null},\"id\":\"1131\",\"type\":\"Grid\"}],\"root_ids\":[\"1115\"]},\"title\":\"Bokeh Application\",\"version\":\"2.4.0\"}};\n",
       "  const render_items = [{\"docid\":\"bed6495f-fd09-4944-8c33-a90347f80c61\",\"root_ids\":[\"1115\"],\"roots\":{\"1115\":\"d832fa2b-8cd5-43f1-b12d-8b2bb4d3d593\"}}];\n",
       "  root.Bokeh.embed.embed_items_notebook(docs_json, render_items);\n",
       "\n",
       "  }\n",
       "  if (root.Bokeh !== undefined) {\n",
       "    embed_document(root);\n",
       "  } else {\n",
       "    let attempts = 0;\n",
       "    const timer = setInterval(function(root) {\n",
       "      if (root.Bokeh !== undefined) {\n",
       "        clearInterval(timer);\n",
       "        embed_document(root);\n",
       "      } else {\n",
       "        attempts++;\n",
       "        if (attempts > 100) {\n",
       "          clearInterval(timer);\n",
       "          console.log(\"Bokeh: ERROR: Unable to run BokehJS code because BokehJS library is missing\");\n",
       "        }\n",
       "      }\n",
       "    }, 10, root)\n",
       "  }\n",
       "})(window);"
      ],
      "application/vnd.bokehjs_exec.v0+json": ""
     },
     "metadata": {
      "application/vnd.bokehjs_exec.v0+json": {
       "id": "1115"
      }
     },
     "output_type": "display_data"
    },
    {
     "data": {
      "text/html": [
       "<div style=\"display: table;\"><div style=\"display: table-row;\"><div style=\"display: table-cell;\"><b title=\"bokeh.plotting.figure.Figure\">Figure</b>(</div><div style=\"display: table-cell;\">id&nbsp;=&nbsp;'1115', <span id=\"1232\" style=\"cursor: pointer;\">&hellip;)</span></div></div><div class=\"1231\" style=\"display: none;\"><div style=\"display: table-cell;\"></div><div style=\"display: table-cell;\">above&nbsp;=&nbsp;[],</div></div><div class=\"1231\" style=\"display: none;\"><div style=\"display: table-cell;\"></div><div style=\"display: table-cell;\">align&nbsp;=&nbsp;'start',</div></div><div class=\"1231\" style=\"display: none;\"><div style=\"display: table-cell;\"></div><div style=\"display: table-cell;\">aspect_ratio&nbsp;=&nbsp;None,</div></div><div class=\"1231\" style=\"display: none;\"><div style=\"display: table-cell;\"></div><div style=\"display: table-cell;\">aspect_scale&nbsp;=&nbsp;1,</div></div><div class=\"1231\" style=\"display: none;\"><div style=\"display: table-cell;\"></div><div style=\"display: table-cell;\">background&nbsp;=&nbsp;None,</div></div><div class=\"1231\" style=\"display: none;\"><div style=\"display: table-cell;\"></div><div style=\"display: table-cell;\">background_fill_alpha&nbsp;=&nbsp;1.0,</div></div><div class=\"1231\" style=\"display: none;\"><div style=\"display: table-cell;\"></div><div style=\"display: table-cell;\">background_fill_color&nbsp;=&nbsp;'#ffffff',</div></div><div class=\"1231\" style=\"display: none;\"><div style=\"display: table-cell;\"></div><div style=\"display: table-cell;\">below&nbsp;=&nbsp;[LinearAxis(id='1124', ...)],</div></div><div class=\"1231\" style=\"display: none;\"><div style=\"display: table-cell;\"></div><div style=\"display: table-cell;\">border_fill_alpha&nbsp;=&nbsp;1.0,</div></div><div class=\"1231\" style=\"display: none;\"><div style=\"display: table-cell;\"></div><div style=\"display: table-cell;\">border_fill_color&nbsp;=&nbsp;'#ffffff',</div></div><div class=\"1231\" style=\"display: none;\"><div style=\"display: table-cell;\"></div><div style=\"display: table-cell;\">center&nbsp;=&nbsp;[Grid(id='1127', ...), Grid(id='1131', ...)],</div></div><div class=\"1231\" style=\"display: none;\"><div style=\"display: table-cell;\"></div><div style=\"display: table-cell;\">css_classes&nbsp;=&nbsp;[],</div></div><div class=\"1231\" style=\"display: none;\"><div style=\"display: table-cell;\"></div><div style=\"display: table-cell;\">disabled&nbsp;=&nbsp;False,</div></div><div class=\"1231\" style=\"display: none;\"><div style=\"display: table-cell;\"></div><div style=\"display: table-cell;\">extra_x_ranges&nbsp;=&nbsp;{},</div></div><div class=\"1231\" style=\"display: none;\"><div style=\"display: table-cell;\"></div><div style=\"display: table-cell;\">extra_x_scales&nbsp;=&nbsp;{},</div></div><div class=\"1231\" style=\"display: none;\"><div style=\"display: table-cell;\"></div><div style=\"display: table-cell;\">extra_y_ranges&nbsp;=&nbsp;{},</div></div><div class=\"1231\" style=\"display: none;\"><div style=\"display: table-cell;\"></div><div style=\"display: table-cell;\">extra_y_scales&nbsp;=&nbsp;{},</div></div><div class=\"1231\" style=\"display: none;\"><div style=\"display: table-cell;\"></div><div style=\"display: table-cell;\">frame_height&nbsp;=&nbsp;None,</div></div><div class=\"1231\" style=\"display: none;\"><div style=\"display: table-cell;\"></div><div style=\"display: table-cell;\">frame_width&nbsp;=&nbsp;None,</div></div><div class=\"1231\" style=\"display: none;\"><div style=\"display: table-cell;\"></div><div style=\"display: table-cell;\">height&nbsp;=&nbsp;400,</div></div><div class=\"1231\" style=\"display: none;\"><div style=\"display: table-cell;\"></div><div style=\"display: table-cell;\">height_policy&nbsp;=&nbsp;'auto',</div></div><div class=\"1231\" style=\"display: none;\"><div style=\"display: table-cell;\"></div><div style=\"display: table-cell;\">hidpi&nbsp;=&nbsp;True,</div></div><div class=\"1231\" style=\"display: none;\"><div style=\"display: table-cell;\"></div><div style=\"display: table-cell;\">inner_height&nbsp;=&nbsp;0,</div></div><div class=\"1231\" style=\"display: none;\"><div style=\"display: table-cell;\"></div><div style=\"display: table-cell;\">inner_width&nbsp;=&nbsp;0,</div></div><div class=\"1231\" style=\"display: none;\"><div style=\"display: table-cell;\"></div><div style=\"display: table-cell;\">js_event_callbacks&nbsp;=&nbsp;{},</div></div><div class=\"1231\" style=\"display: none;\"><div style=\"display: table-cell;\"></div><div style=\"display: table-cell;\">js_property_callbacks&nbsp;=&nbsp;{},</div></div><div class=\"1231\" style=\"display: none;\"><div style=\"display: table-cell;\"></div><div style=\"display: table-cell;\">left&nbsp;=&nbsp;[LinearAxis(id='1128', ...)],</div></div><div class=\"1231\" style=\"display: none;\"><div style=\"display: table-cell;\"></div><div style=\"display: table-cell;\">lod_factor&nbsp;=&nbsp;10,</div></div><div class=\"1231\" style=\"display: none;\"><div style=\"display: table-cell;\"></div><div style=\"display: table-cell;\">lod_interval&nbsp;=&nbsp;300,</div></div><div class=\"1231\" style=\"display: none;\"><div style=\"display: table-cell;\"></div><div style=\"display: table-cell;\">lod_threshold&nbsp;=&nbsp;2000,</div></div><div class=\"1231\" style=\"display: none;\"><div style=\"display: table-cell;\"></div><div style=\"display: table-cell;\">lod_timeout&nbsp;=&nbsp;500,</div></div><div class=\"1231\" style=\"display: none;\"><div style=\"display: table-cell;\"></div><div style=\"display: table-cell;\">margin&nbsp;=&nbsp;(0, 0, 0, 0),</div></div><div class=\"1231\" style=\"display: none;\"><div style=\"display: table-cell;\"></div><div style=\"display: table-cell;\">match_aspect&nbsp;=&nbsp;False,</div></div><div class=\"1231\" style=\"display: none;\"><div style=\"display: table-cell;\"></div><div style=\"display: table-cell;\">max_height&nbsp;=&nbsp;None,</div></div><div class=\"1231\" style=\"display: none;\"><div style=\"display: table-cell;\"></div><div style=\"display: table-cell;\">max_width&nbsp;=&nbsp;None,</div></div><div class=\"1231\" style=\"display: none;\"><div style=\"display: table-cell;\"></div><div style=\"display: table-cell;\">min_border&nbsp;=&nbsp;5,</div></div><div class=\"1231\" style=\"display: none;\"><div style=\"display: table-cell;\"></div><div style=\"display: table-cell;\">min_border_bottom&nbsp;=&nbsp;None,</div></div><div class=\"1231\" style=\"display: none;\"><div style=\"display: table-cell;\"></div><div style=\"display: table-cell;\">min_border_left&nbsp;=&nbsp;None,</div></div><div class=\"1231\" style=\"display: none;\"><div style=\"display: table-cell;\"></div><div style=\"display: table-cell;\">min_border_right&nbsp;=&nbsp;None,</div></div><div class=\"1231\" style=\"display: none;\"><div style=\"display: table-cell;\"></div><div style=\"display: table-cell;\">min_border_top&nbsp;=&nbsp;None,</div></div><div class=\"1231\" style=\"display: none;\"><div style=\"display: table-cell;\"></div><div style=\"display: table-cell;\">min_height&nbsp;=&nbsp;None,</div></div><div class=\"1231\" style=\"display: none;\"><div style=\"display: table-cell;\"></div><div style=\"display: table-cell;\">min_width&nbsp;=&nbsp;None,</div></div><div class=\"1231\" style=\"display: none;\"><div style=\"display: table-cell;\"></div><div style=\"display: table-cell;\">name&nbsp;=&nbsp;None,</div></div><div class=\"1231\" style=\"display: none;\"><div style=\"display: table-cell;\"></div><div style=\"display: table-cell;\">outer_height&nbsp;=&nbsp;0,</div></div><div class=\"1231\" style=\"display: none;\"><div style=\"display: table-cell;\"></div><div style=\"display: table-cell;\">outer_width&nbsp;=&nbsp;0,</div></div><div class=\"1231\" style=\"display: none;\"><div style=\"display: table-cell;\"></div><div style=\"display: table-cell;\">outline_line_alpha&nbsp;=&nbsp;1.0,</div></div><div class=\"1231\" style=\"display: none;\"><div style=\"display: table-cell;\"></div><div style=\"display: table-cell;\">outline_line_cap&nbsp;=&nbsp;'butt',</div></div><div class=\"1231\" style=\"display: none;\"><div style=\"display: table-cell;\"></div><div style=\"display: table-cell;\">outline_line_color&nbsp;=&nbsp;'#e5e5e5',</div></div><div class=\"1231\" style=\"display: none;\"><div style=\"display: table-cell;\"></div><div style=\"display: table-cell;\">outline_line_dash&nbsp;=&nbsp;[],</div></div><div class=\"1231\" style=\"display: none;\"><div style=\"display: table-cell;\"></div><div style=\"display: table-cell;\">outline_line_dash_offset&nbsp;=&nbsp;0,</div></div><div class=\"1231\" style=\"display: none;\"><div style=\"display: table-cell;\"></div><div style=\"display: table-cell;\">outline_line_join&nbsp;=&nbsp;'bevel',</div></div><div class=\"1231\" style=\"display: none;\"><div style=\"display: table-cell;\"></div><div style=\"display: table-cell;\">outline_line_width&nbsp;=&nbsp;1,</div></div><div class=\"1231\" style=\"display: none;\"><div style=\"display: table-cell;\"></div><div style=\"display: table-cell;\">output_backend&nbsp;=&nbsp;'canvas',</div></div><div class=\"1231\" style=\"display: none;\"><div style=\"display: table-cell;\"></div><div style=\"display: table-cell;\">renderers&nbsp;=&nbsp;[GlyphRenderer(id='1150', ...)],</div></div><div class=\"1231\" style=\"display: none;\"><div style=\"display: table-cell;\"></div><div style=\"display: table-cell;\">reset_policy&nbsp;=&nbsp;'standard',</div></div><div class=\"1231\" style=\"display: none;\"><div style=\"display: table-cell;\"></div><div style=\"display: table-cell;\">right&nbsp;=&nbsp;[],</div></div><div class=\"1231\" style=\"display: none;\"><div style=\"display: table-cell;\"></div><div style=\"display: table-cell;\">sizing_mode&nbsp;=&nbsp;None,</div></div><div class=\"1231\" style=\"display: none;\"><div style=\"display: table-cell;\"></div><div style=\"display: table-cell;\">subscribed_events&nbsp;=&nbsp;[],</div></div><div class=\"1231\" style=\"display: none;\"><div style=\"display: table-cell;\"></div><div style=\"display: table-cell;\">syncable&nbsp;=&nbsp;True,</div></div><div class=\"1231\" style=\"display: none;\"><div style=\"display: table-cell;\"></div><div style=\"display: table-cell;\">tags&nbsp;=&nbsp;[],</div></div><div class=\"1231\" style=\"display: none;\"><div style=\"display: table-cell;\"></div><div style=\"display: table-cell;\">title&nbsp;=&nbsp;Title(id='1165', ...),</div></div><div class=\"1231\" style=\"display: none;\"><div style=\"display: table-cell;\"></div><div style=\"display: table-cell;\">title_location&nbsp;=&nbsp;'above',</div></div><div class=\"1231\" style=\"display: none;\"><div style=\"display: table-cell;\"></div><div style=\"display: table-cell;\">toolbar&nbsp;=&nbsp;Toolbar(id='1139', ...),</div></div><div class=\"1231\" style=\"display: none;\"><div style=\"display: table-cell;\"></div><div style=\"display: table-cell;\">toolbar_location&nbsp;=&nbsp;'right',</div></div><div class=\"1231\" style=\"display: none;\"><div style=\"display: table-cell;\"></div><div style=\"display: table-cell;\">toolbar_sticky&nbsp;=&nbsp;True,</div></div><div class=\"1231\" style=\"display: none;\"><div style=\"display: table-cell;\"></div><div style=\"display: table-cell;\">visible&nbsp;=&nbsp;True,</div></div><div class=\"1231\" style=\"display: none;\"><div style=\"display: table-cell;\"></div><div style=\"display: table-cell;\">width&nbsp;=&nbsp;600,</div></div><div class=\"1231\" style=\"display: none;\"><div style=\"display: table-cell;\"></div><div style=\"display: table-cell;\">width_policy&nbsp;=&nbsp;'auto',</div></div><div class=\"1231\" style=\"display: none;\"><div style=\"display: table-cell;\"></div><div style=\"display: table-cell;\">x_range&nbsp;=&nbsp;DataRange1d(id='1116', ...),</div></div><div class=\"1231\" style=\"display: none;\"><div style=\"display: table-cell;\"></div><div style=\"display: table-cell;\">x_scale&nbsp;=&nbsp;LinearScale(id='1120', ...),</div></div><div class=\"1231\" style=\"display: none;\"><div style=\"display: table-cell;\"></div><div style=\"display: table-cell;\">y_range&nbsp;=&nbsp;DataRange1d(id='1118', ...),</div></div><div class=\"1231\" style=\"display: none;\"><div style=\"display: table-cell;\"></div><div style=\"display: table-cell;\">y_scale&nbsp;=&nbsp;LinearScale(id='1122', ...))</div></div></div>\n",
       "<script>\n",
       "(function() {\n",
       "  let expanded = false;\n",
       "  const ellipsis = document.getElementById(\"1232\");\n",
       "  ellipsis.addEventListener(\"click\", function() {\n",
       "    const rows = document.getElementsByClassName(\"1231\");\n",
       "    for (let i = 0; i < rows.length; i++) {\n",
       "      const el = rows[i];\n",
       "      el.style.display = expanded ? \"none\" : \"table-row\";\n",
       "    }\n",
       "    ellipsis.innerHTML = expanded ? \"&hellip;)\" : \"&lsaquo;&lsaquo;&lsaquo;\";\n",
       "    expanded = !expanded;\n",
       "  });\n",
       "})();\n",
       "</script>\n"
      ],
      "text/plain": [
       "Figure(id='1115', ...)"
      ]
     },
     "execution_count": 92,
     "metadata": {},
     "output_type": "execute_result"
    }
   ],
   "source": [
    "draw_vectors(\n",
    "    examples[\"transformed_features\"][:, 0], \n",
    "    examples[\"transformed_features\"][:, 1], \n",
    "    color=[[\"red\", \"blue\"][t] for t in examples[\"targets\"]]\n",
    "    )"
   ]
  },
  {
   "cell_type": "markdown",
   "metadata": {
    "id": "0fNF6LRQ9MPI"
   },
   "source": [
    "Скорее всего, на визуализации нет четкого разделения твитов между классами. Это значит, что по полученным нами векторам твитов не так-то просто определить, к какому классу твит пренадлежит. Значит, обычный линейный классификатор не очень хорошо справится с задачей. Надо будет делать глубокую (хотя бы два слоя) нейронную сеть.\n",
    "\n",
    "Подготовим загрузчики данных.\n",
    "Усреднее векторов будем делать в \"батчевалке\"(`collate_fn`). Она используется для того, чтобы собирать из данных `torch.Tensor` батчи, которые можно отправлять в модель.\n"
   ]
  },
  {
   "cell_type": "code",
   "execution_count": 9,
   "metadata": {
    "id": "y1XapsADtITv"
   },
   "outputs": [],
   "source": [
    "from torch.utils.data import DataLoader\n",
    "\n",
    "\n",
    "batch_size = 1024\n",
    "num_workers = 2\n",
    "\n",
    "def average_emb(batch):\n",
    "    features = [np.mean(b[\"feature\"], axis=0) for b in batch]\n",
    "    targets = [b[\"target\"] for b in batch]\n",
    "\n",
    "    return {\"features\": torch.FloatTensor(features), \"targets\": torch.LongTensor(targets)}\n",
    "\n",
    "\n",
    "train_size = math.ceil(len(dev) * 0.8)\n",
    "\n",
    "train, valid = random_split(dev, [train_size, len(dev) - train_size])\n",
    "\n",
    "train_loader = DataLoader(train, batch_size=batch_size, num_workers=num_workers, shuffle=True, drop_last=True, collate_fn=average_emb)\n",
    "valid_loader = DataLoader(valid, batch_size=batch_size, num_workers=num_workers, shuffle=False, drop_last=False, collate_fn=average_emb)"
   ]
  },
  {
   "cell_type": "markdown",
   "metadata": {
    "id": "p-zs0WEK-Vkt"
   },
   "source": [
    "Определим функции для тренировки и теста модели:"
   ]
  },
  {
   "cell_type": "code",
   "execution_count": 10,
   "metadata": {
    "id": "U--T2Gjw1r27"
   },
   "outputs": [],
   "source": [
    "from tqdm.notebook import tqdm\n",
    "\n",
    "\n",
    "def training(model, optimizer, criterion, train_loader, epoch, device=\"cpu\"):\n",
    "    pbar = tqdm(train_loader, desc=f\"Epoch {e + 1}. Train Loss: {0}\")\n",
    "    model.train()\n",
    "    for batch in pbar:\n",
    "        features = batch[\"features\"].to(device)\n",
    "        targets = batch[\"targets\"].to(device)\n",
    "        \n",
    "        model.zero_grad()  \n",
    "        pred = model(features)        \n",
    "        \n",
    "        loss = criterion(pred,targets)\n",
    "        loss.backward() \n",
    "        optimizer.step()\n",
    "\n",
    "        pbar.set_description(f\"Epoch {e + 1}. Train Loss: {loss:.4}\")\n",
    "    \n",
    "\n",
    "def testing(model, criterion, test_loader, device=\"cpu\"):\n",
    "    pbar = tqdm(test_loader, desc=f\"Test Loss: {0}, Test Acc: {0}\")\n",
    "    mean_loss = 0\n",
    "    mean_acc = 0\n",
    "    model.eval()\n",
    "    with torch.no_grad():\n",
    "        for batch in pbar:\n",
    "            features = batch[\"features\"].to(device)\n",
    "            targets = batch[\"targets\"].to(device)\n",
    "\n",
    "            pred = model(features)\n",
    "            loss = criterion(pred,targets)\n",
    "            acc = sum(torch.argmax(pred,axis = 1) == targets)/len(targets)\n",
    "\n",
    "            mean_loss += loss.item()\n",
    "            mean_acc += acc.item()\n",
    "\n",
    "            pbar.set_description(f\"Test Loss: {loss:.4}, Test Acc: {acc:.4}\")\n",
    "\n",
    "    pbar.set_description(f\"Test Loss: {mean_loss / len(test_loader):.4}, Test Acc: {mean_acc / len(test_loader):.4}\")\n",
    "\n",
    "    return {\"Test Loss\": mean_loss / len(test_loader), \"Test Acc\": mean_acc / len(test_loader)}"
   ]
  },
  {
   "cell_type": "markdown",
   "metadata": {
    "id": "oVg_XBBb-YBH"
   },
   "source": [
    "Создадим модель, оптимизатор и целевую функцию. Вы можете сами выбрать количество слоев в нейронной сети, ваш любимый оптимизатор и целевую функцию.\n"
   ]
  },
  {
   "cell_type": "code",
   "execution_count": 95,
   "metadata": {
    "id": "EBoZ4F3Fx1Hm"
   },
   "outputs": [],
   "source": [
    "import torch.nn as nn\n",
    "from torch.optim import Adam\n",
    "\n",
    "\n",
    "vector_size = dev.word2vec.vector_size\n",
    "num_classes = 2\n",
    "lr = 1e-4\n",
    "num_epochs = 3\n",
    "\n",
    "model = nn.Sequential(\n",
    "            nn.Linear(vector_size,500),\n",
    "            nn.Sigmoid(),\n",
    "            nn.Linear(500,200),\n",
    "            nn.Sigmoid(),\n",
    "            nn.Linear(200,100),\n",
    "            nn.Sigmoid(),\n",
    "            nn.Linear(100,num_classes),\n",
    "            nn.Sigmoid()\n",
    "        )\n",
    "model = model.to(torch.device(device))\n",
    "criterion = nn.CrossEntropyLoss()\n",
    "optimizer = Adam(model.parameters(),lr = lr)"
   ]
  },
  {
   "cell_type": "markdown",
   "metadata": {
    "id": "-AitU8AR-zBj"
   },
   "source": [
    "Наконец, обучим модель и протестируем её.\n",
    "\n",
    "После каждой эпохи будем проверять качество модели на валидационной части датасета. Если метрика стала лучше, будем сохранять модель. **Подумайте, какая метрика (точность или лосс) будет лучше работать в этой задаче?** "
   ]
  },
  {
   "cell_type": "code",
   "execution_count": 96,
   "metadata": {
    "id": "gKhk71Pmx1F1"
   },
   "outputs": [
    {
     "data": {
      "application/vnd.jupyter.widget-view+json": {
       "model_id": "24ab752deee946d8a54816abd3b8794f",
       "version_major": 2,
       "version_minor": 0
      },
      "text/plain": [
       "Epoch 1. Train Loss: 0:   0%|          | 0/1000 [00:00<?, ?it/s]"
      ]
     },
     "metadata": {},
     "output_type": "display_data"
    },
    {
     "data": {
      "application/vnd.jupyter.widget-view+json": {
       "model_id": "f4801f8ccb0249adb654afa006f4f47e",
       "version_major": 2,
       "version_minor": 0
      },
      "text/plain": [
       "Test Loss: 0, Test Acc: 0:   0%|          | 0/250 [00:00<?, ?it/s]"
      ]
     },
     "metadata": {},
     "output_type": "display_data"
    },
    {
     "name": "stdout",
     "output_type": "stream",
     "text": [
      "{'Test Loss': 0.5757437865734101, 'Test Acc': 0.720390625}\n"
     ]
    },
    {
     "data": {
      "application/vnd.jupyter.widget-view+json": {
       "model_id": "be07d400fc86432b883416317f698719",
       "version_major": 2,
       "version_minor": 0
      },
      "text/plain": [
       "Epoch 2. Train Loss: 0:   0%|          | 0/1000 [00:00<?, ?it/s]"
      ]
     },
     "metadata": {},
     "output_type": "display_data"
    },
    {
     "data": {
      "application/vnd.jupyter.widget-view+json": {
       "model_id": "2e023d95b0264654a802e7ec1df70bb1",
       "version_major": 2,
       "version_minor": 0
      },
      "text/plain": [
       "Test Loss: 0, Test Acc: 0:   0%|          | 0/250 [00:00<?, ?it/s]"
      ]
     },
     "metadata": {},
     "output_type": "display_data"
    },
    {
     "name": "stdout",
     "output_type": "stream",
     "text": [
      "{'Test Loss': 0.5728771069049835, 'Test Acc': 0.721546875}\n"
     ]
    },
    {
     "data": {
      "application/vnd.jupyter.widget-view+json": {
       "model_id": "6b7699410bf34a9ea4ffe0b91ad9da96",
       "version_major": 2,
       "version_minor": 0
      },
      "text/plain": [
       "Epoch 3. Train Loss: 0:   0%|          | 0/1000 [00:00<?, ?it/s]"
      ]
     },
     "metadata": {},
     "output_type": "display_data"
    },
    {
     "data": {
      "application/vnd.jupyter.widget-view+json": {
       "model_id": "66222a8293df4de1b869fa1b40fde4f9",
       "version_major": 2,
       "version_minor": 0
      },
      "text/plain": [
       "Test Loss: 0, Test Acc: 0:   0%|          | 0/250 [00:00<?, ?it/s]"
      ]
     },
     "metadata": {},
     "output_type": "display_data"
    },
    {
     "name": "stdout",
     "output_type": "stream",
     "text": [
      "{'Test Loss': 0.5711968140602112, 'Test Acc': 0.72237890625}\n"
     ]
    }
   ],
   "source": [
    "best_metric = np.inf\n",
    "for e in range(num_epochs):\n",
    "    training(model, optimizer, criterion, train_loader, e, device)\n",
    "    log = testing(model, criterion, valid_loader, device)\n",
    "    print(log)\n",
    "    if log[\"Test Loss\"] < best_metric:\n",
    "        torch.save(model.state_dict(), \"model.pt\")\n",
    "        best_metric = log[\"Test Loss\"]"
   ]
  },
  {
   "cell_type": "code",
   "execution_count": 97,
   "metadata": {
    "id": "di4dGwD4x1Dt"
   },
   "outputs": [
    {
     "data": {
      "application/vnd.jupyter.widget-view+json": {
       "model_id": "bef94d26d3a04730a468c55c8f5fa250",
       "version_major": 2,
       "version_minor": 0
      },
      "text/plain": [
       "Test Loss: 0, Test Acc: 0:   0%|          | 0/313 [00:00<?, ?it/s]"
      ]
     },
     "metadata": {},
     "output_type": "display_data"
    },
    {
     "name": "stdout",
     "output_type": "stream",
     "text": [
      "{'Test Loss': 0.5702286261720018, 'Test Acc': 0.7237201727236422}\n"
     ]
    }
   ],
   "source": [
    "test_loader = DataLoader(\n",
    "    TwitterDataset(test_data, \"text\", \"emotion\", word2vec), \n",
    "    batch_size=batch_size, \n",
    "    num_workers=num_workers, \n",
    "    shuffle=False,\n",
    "    drop_last=False, \n",
    "    collate_fn=average_emb)\n",
    "\n",
    "model.load_state_dict(torch.load(\"model.pt\", map_location=device))\n",
    "\n",
    "print(testing(model, criterion, test_loader, device=device))"
   ]
  },
  {
   "cell_type": "markdown",
   "metadata": {
    "id": "ZRvzpldHSAu0"
   },
   "source": [
    "## Embeddings for unknown words (8 баллов)\n",
    "\n",
    "Пока что использовалась не вся информация из текста. Часть информации фильтровалось – если слова не было в словаре эмбеддингов, то мы просто превращали слово в нулевой вектор. Хочется использовать информацию по-максимуму. Поэтому рассмотрим другие способы обработки слов, которых нет в словаре. А именно:\n",
    "\n",
    "- Для каждого незнакомого слова будем запоминать его контекст(слова слева и справа от этого слова). Эмбеддингом нашего незнакомого слова будет сумма эмбеддингов всех слов из его контекста. (4 балла)\n",
    "- Для каждого слова текста получим его эмбеддинг из Tfidf с помощью ```TfidfVectorizer``` из [sklearn](https://scikit-learn.org/stable/modules/generated/sklearn.feature_extraction.text.TfidfVectorizer.html#sklearn.feature_extraction.text.TfidfVectorizer). Итоговым эмбеддингом для каждого слова будет сумма двух эмбеддингов: предобученного и Tfidf-ного. Для слов, которых нет в словаре предобученных эмбеддингов, результирующий эмбеддинг будет просто полученный из Tfidf. (4 балла)\n",
    "\n",
    "Реализуйте оба варианта **ниже**. Напишите, какой способ сработал лучше и ваши мысли, почему так получилось."
   ]
  },
  {
   "cell_type": "markdown",
   "metadata": {},
   "source": [
    "### Эмбеддинги через взвешенную сумму "
   ]
  },
  {
   "cell_type": "code",
   "execution_count": 13,
   "metadata": {},
   "outputs": [],
   "source": [
    "def get_tokens(text):\n",
    "    pattern='[A-z]+|@[A-z]+'\n",
    "    tokenizer = nltk.RegexpTokenizer(pattern=pattern)\n",
    "    tokens = tokenizer.tokenize(text)\n",
    "    filtered_tokens = [w for w in tokens if all(c not in string.punctuation for c in w) and len(w) > 3]\n",
    "    return filtered_tokens"
   ]
  },
  {
   "cell_type": "code",
   "execution_count": 99,
   "metadata": {
    "id": "RxhEpKalU1UQ"
   },
   "outputs": [],
   "source": [
    "class DatasetUnknwnEmbs(TwitterDataset):\n",
    "    \n",
    "    def __init__(self, data: pd.DataFrame, feature_column: str, target_column: str, word2vec: gensim.models.Word2Vec, window_size: int):\n",
    "        super().__init__(data,feature_column,target_column,word2vec)\n",
    "         # не отделять @ от никнейма, чтобы стирать никнеймы и не учить эмбеддинги \n",
    "        pattern='[A-z]+|@[A-z]+'\n",
    "        self.tokenizer = nltk.RegexpTokenizer(pattern=pattern )\n",
    "        self.window_size = window_size\n",
    "\n",
    "    \n",
    "    def get_embeddings_(self, tokens):\n",
    "        unknown_idxs  = [i for i,w in enumerate(tokens) if w not in self.word2vec]     \n",
    "        embeddings =[(word2vec.get_vector(w)-self.mean)/self.std \\\n",
    "                                    if w in self.word2vec \\\n",
    "                                    else np.zeros(self.word2vec.vector_size)\\\n",
    "                                    for w in tokens ]\n",
    "        \n",
    "        embeddings = np.array(embeddings)\n",
    "\n",
    "        n = self.window_size # вызвешенно учитываю по n слов из контекста влево и вправо\n",
    "        for i in unknown_idxs:\n",
    "#             границы окна контекста\n",
    "            lb=  i-n if i-n>0 else 0\n",
    "            rb= i+n+1 if i+n<len(embeddings) else len(embeddings)\n",
    "            \n",
    "#             веса соседних слов\n",
    "            l_arr = np.arange(1,i-lb+1)\n",
    "            r_arr = np.arange(1,rb-i)\n",
    "            \n",
    "            w = [np.concatenate([1/l_arr[::-1],[0],1/r_arr])]*self.word2vec.vector_size\n",
    "            w = np.stack(w,axis=1)\n",
    "#             подсчет вызвешенной суммы\n",
    "            embeddings[i] = np.sum(embeddings[lb:rb]*w,axis =0)\n",
    "\n",
    "\n",
    "        if len(embeddings) == 0:\n",
    "            embeddings = np.zeros((1, self.word2vec.vector_size))\n",
    "        else:\n",
    "            \n",
    "            if len(embeddings.shape) == 1:\n",
    "                embeddings = embeddings.reshape(-1, 1)\n",
    "\n",
    "        return embeddings\n",
    "    \n",
    "     "
   ]
  },
  {
   "cell_type": "code",
   "execution_count": 100,
   "metadata": {},
   "outputs": [
    {
     "data": {
      "text/plain": [
       "6.834416875"
      ]
     },
     "execution_count": 100,
     "metadata": {},
     "output_type": "execute_result"
    }
   ],
   "source": [
    "len_list = data['text'].map(get_tokens).map(len)\n",
    "len_list.mean()"
   ]
  },
  {
   "cell_type": "code",
   "execution_count": 101,
   "metadata": {},
   "outputs": [],
   "source": [
    "# возьмем размер окна контекста как средний размер предложения \n",
    "\n",
    "win_size = 7\n",
    "dev_ue = DatasetUnknwnEmbs(dev_data, \"text\", \"emotion\", word2vec, win_size)"
   ]
  },
  {
   "cell_type": "code",
   "execution_count": 102,
   "metadata": {},
   "outputs": [],
   "source": [
    "train_size = math.ceil(len(dev_ue) * 0.8)\n",
    "num_workers = 2\n",
    "train_ue, valid_ue = random_split(dev_ue, [train_size, len(dev_ue) - train_size])\n",
    "\n",
    "train_loader_ue = DataLoader(train_ue, batch_size=batch_size, num_workers=num_workers, shuffle=True, drop_last=True, collate_fn=average_emb)\n",
    "valid_loader_ue = DataLoader(valid_ue, batch_size=batch_size, num_workers=num_workers, shuffle=False, drop_last=False, collate_fn=average_emb)"
   ]
  },
  {
   "cell_type": "code",
   "execution_count": 103,
   "metadata": {},
   "outputs": [],
   "source": [
    "vector_size = dev_ue.word2vec.vector_size\n",
    "num_classes = 2\n",
    "lr = 1e-4\n",
    "num_epochs = 3\n",
    "\n",
    "model_ue = nn.Sequential(\n",
    "            nn.Linear(vector_size,500),\n",
    "            nn.Sigmoid(),\n",
    "            nn.Linear(500,200),\n",
    "            nn.Sigmoid(),\n",
    "            nn.Linear(200,100),\n",
    "            nn.Sigmoid(),\n",
    "            nn.Linear(100,num_classes),\n",
    "            nn.Sigmoid()\n",
    "        )\n",
    "model_ue = model_ue.to(torch.device(device))\n",
    "criterion = nn.CrossEntropyLoss()\n",
    "optimizer_ue = Adam(model_ue.parameters(),lr = lr)"
   ]
  },
  {
   "cell_type": "code",
   "execution_count": 104,
   "metadata": {
    "scrolled": true
   },
   "outputs": [
    {
     "data": {
      "application/vnd.jupyter.widget-view+json": {
       "model_id": "8a66c96a0f7c4256807430de841406a4",
       "version_major": 2,
       "version_minor": 0
      },
      "text/plain": [
       "Epoch 1. Train Loss: 0:   0%|          | 0/1000 [00:00<?, ?it/s]"
      ]
     },
     "metadata": {},
     "output_type": "display_data"
    },
    {
     "data": {
      "application/vnd.jupyter.widget-view+json": {
       "model_id": "cb17673f66ae47e08b5270bc1b5f7d59",
       "version_major": 2,
       "version_minor": 0
      },
      "text/plain": [
       "Test Loss: 0, Test Acc: 0:   0%|          | 0/250 [00:00<?, ?it/s]"
      ]
     },
     "metadata": {},
     "output_type": "display_data"
    },
    {
     "data": {
      "application/vnd.jupyter.widget-view+json": {
       "model_id": "ff9729e71ae3472193a86ab837f3cb20",
       "version_major": 2,
       "version_minor": 0
      },
      "text/plain": [
       "Epoch 2. Train Loss: 0:   0%|          | 0/1000 [00:00<?, ?it/s]"
      ]
     },
     "metadata": {},
     "output_type": "display_data"
    },
    {
     "data": {
      "application/vnd.jupyter.widget-view+json": {
       "model_id": "2835c269ecbb43fda684f3617a900b81",
       "version_major": 2,
       "version_minor": 0
      },
      "text/plain": [
       "Test Loss: 0, Test Acc: 0:   0%|          | 0/250 [00:00<?, ?it/s]"
      ]
     },
     "metadata": {},
     "output_type": "display_data"
    },
    {
     "data": {
      "application/vnd.jupyter.widget-view+json": {
       "model_id": "bbf85829a8b948d4b6e88c8281751ed9",
       "version_major": 2,
       "version_minor": 0
      },
      "text/plain": [
       "Epoch 3. Train Loss: 0:   0%|          | 0/1000 [00:00<?, ?it/s]"
      ]
     },
     "metadata": {},
     "output_type": "display_data"
    },
    {
     "data": {
      "application/vnd.jupyter.widget-view+json": {
       "model_id": "d34869368c764f238cf316ca6c3555cc",
       "version_major": 2,
       "version_minor": 0
      },
      "text/plain": [
       "Test Loss: 0, Test Acc: 0:   0%|          | 0/250 [00:00<?, ?it/s]"
      ]
     },
     "metadata": {},
     "output_type": "display_data"
    }
   ],
   "source": [
    "best_metric = np.inf\n",
    "for e in range(num_epochs):\n",
    "    training(model_ue, optimizer_ue, criterion, train_loader_ue, e, device)\n",
    "    log = testing(model_ue, criterion, valid_loader_ue, device)\n",
    "    if log[\"Test Loss\"] < best_metric:\n",
    "        torch.save(model_ue.state_dict(), \"model_ue.pt\")\n",
    "        best_metric = log[\"Test Loss\"]"
   ]
  },
  {
   "cell_type": "code",
   "execution_count": 105,
   "metadata": {},
   "outputs": [
    {
     "data": {
      "application/vnd.jupyter.widget-view+json": {
       "model_id": "eb9aaf45f83d4ae6b0b5aae1162e37f6",
       "version_major": 2,
       "version_minor": 0
      },
      "text/plain": [
       "Test Loss: 0, Test Acc: 0:   0%|          | 0/313 [00:00<?, ?it/s]"
      ]
     },
     "metadata": {},
     "output_type": "display_data"
    },
    {
     "name": "stdout",
     "output_type": "stream",
     "text": [
      "{'Test Loss': 0.5710094199774746, 'Test Acc': 0.7229776108226837}\n"
     ]
    }
   ],
   "source": [
    "test_loader_ue = DataLoader(\n",
    "    DatasetUnknwnEmbs(test_data, \"text\", \"emotion\", word2vec,win_size), \n",
    "    batch_size=batch_size, \n",
    "    num_workers=num_workers, \n",
    "    shuffle=False,\n",
    "    drop_last=False, \n",
    "    collate_fn=average_emb)\n",
    "\n",
    "model_ue.load_state_dict(torch.load(\"model_ue.pt\", map_location=device))\n",
    "\n",
    "print(testing(model_ue, criterion, test_loader_ue, device=device))"
   ]
  },
  {
   "cell_type": "markdown",
   "metadata": {},
   "source": [
    "### TF-IDF эмбеддинги\n"
   ]
  },
  {
   "cell_type": "code",
   "execution_count": 11,
   "metadata": {},
   "outputs": [],
   "source": [
    "from sklearn.feature_extraction.text import TfidfVectorizer\n",
    "from sparsesvd import sparsesvd\n",
    "\n",
    "def get_tfidf_embeddings(data,tokenizer,v_size):\n",
    "    tfidf = TfidfVectorizer(tokenizer= tokenizer)\n",
    "    res = tfidf.fit_transform(data)\n",
    "    u, s, vt = sparsesvd(res.tocsc(),v_size)\n",
    "    k,v = tfidf.get_feature_names_out() , vt.T\n",
    "    v = (v-v.mean(axis=0))/v.std(axis=0)\n",
    "    return dict(zip(k,v))\n",
    "\n"
   ]
  },
  {
   "cell_type": "code",
   "execution_count": 14,
   "metadata": {},
   "outputs": [],
   "source": [
    "tfidf_embeddings_dict = get_tfidf_embeddings(data['text'],get_tokens,word2vec.vector_size)"
   ]
  },
  {
   "cell_type": "code",
   "execution_count": 15,
   "metadata": {},
   "outputs": [],
   "source": [
    "class DatasetTFIDFEmbs(TwitterDataset):\n",
    "    \n",
    "    def __init__(self, data: pd.DataFrame, feature_column: str, target_column: str, word2vec: gensim.models.Word2Vec, tfidf_embeddings_dict: dict):\n",
    "        super().__init__(data,feature_column,target_column,word2vec)\n",
    "#          # не отделять @ от никнейма, чтобы стирать никнеймы \n",
    "        pattern='[A-z]+|@[A-z]+'\n",
    "        self.tokenizer = nltk.RegexpTokenizer(pattern=pattern )\n",
    "        self.tfidf_dict = tfidf_embeddings_dict\n",
    "\n",
    "    \n",
    "    def get_embeddings_(self, tokens):\n",
    "        unknown_idxs  = [i for i,w in enumerate(tokens) if w not in self.word2vec]     \n",
    "        w2v_embeddings =[(word2vec.get_vector(w)-self.mean)/self.std \\\n",
    "                                    if w in self.word2vec \\\n",
    "                                    else np.zeros(self.word2vec.vector_size)\\\n",
    "                                    for w in tokens ]\n",
    "        w2v_embeddings = np.array(w2v_embeddings)\n",
    "        tfidf_embeddings = [self.tfidf_dict[w.lower()] for w in tokens]\n",
    "        embeddings = w2v_embeddings + tfidf_embeddings\n",
    "\n",
    "        if len(embeddings) == 0:\n",
    "            embeddings = np.zeros((1, self.word2vec.vector_size))\n",
    "        else:\n",
    "            if len(embeddings.shape) == 1:\n",
    "                embeddings = embeddings.reshape(-1, 1)\n",
    "\n",
    "        return embeddings\n",
    "    \n",
    "     "
   ]
  },
  {
   "cell_type": "code",
   "execution_count": 16,
   "metadata": {},
   "outputs": [],
   "source": [
    "dev_tfidf = DatasetTFIDFEmbs(dev_data, \"text\", \"emotion\", word2vec,tfidf_embeddings_dict)"
   ]
  },
  {
   "cell_type": "code",
   "execution_count": 17,
   "metadata": {},
   "outputs": [],
   "source": [
    "train_size = math.ceil(len(dev_tfidf) * 0.8)\n",
    "num_workers = 2\n",
    "train_tfidf, valid_tfidf = random_split(dev_tfidf, [train_size, len(dev_tfidf) - train_size])\n",
    "\n",
    "train_loader_tfidf = DataLoader(train_tfidf, batch_size=batch_size, num_workers=num_workers, shuffle=True, drop_last=True, collate_fn=average_emb)\n",
    "valid_loader_tfidf = DataLoader(valid_tfidf, batch_size=batch_size, num_workers=num_workers, shuffle=False, drop_last=False, collate_fn=average_emb)"
   ]
  },
  {
   "cell_type": "code",
   "execution_count": 18,
   "metadata": {},
   "outputs": [],
   "source": [
    "import torch.nn as nn\n",
    "from torch.optim import Adam\n",
    "\n",
    "\n",
    "vector_size = dev.word2vec.vector_size\n",
    "num_classes = 2\n",
    "lr = 1e-4\n",
    "num_epochs = 3\n",
    "\n",
    "model_tfidf = nn.Sequential(\n",
    "            nn.Linear(vector_size,500),\n",
    "            nn.Sigmoid(),\n",
    "            nn.Linear(500,200),\n",
    "            nn.Sigmoid(),\n",
    "            nn.Linear(200,100),\n",
    "            nn.Sigmoid(),\n",
    "            nn.Linear(100,num_classes),\n",
    "            nn.Sigmoid()\n",
    "        )\n",
    "model_tfidf = model_tfidf.to(torch.device(device))\n",
    "criterion = nn.CrossEntropyLoss()\n",
    "optimizer_tfidf = Adam(model_tfidf.parameters(),lr = lr)"
   ]
  },
  {
   "cell_type": "code",
   "execution_count": 19,
   "metadata": {
    "scrolled": true
   },
   "outputs": [
    {
     "data": {
      "application/vnd.jupyter.widget-view+json": {
       "model_id": "561852075a68477b8fb649e67f1c61fc",
       "version_major": 2,
       "version_minor": 0
      },
      "text/plain": [
       "Epoch 1. Train Loss: 0:   0%|          | 0/1000 [00:00<?, ?it/s]"
      ]
     },
     "metadata": {},
     "output_type": "display_data"
    },
    {
     "data": {
      "application/vnd.jupyter.widget-view+json": {
       "model_id": "d9c9ebfc6ba14ed6b26ebd266026d301",
       "version_major": 2,
       "version_minor": 0
      },
      "text/plain": [
       "Test Loss: 0, Test Acc: 0:   0%|          | 0/250 [00:00<?, ?it/s]"
      ]
     },
     "metadata": {},
     "output_type": "display_data"
    },
    {
     "data": {
      "application/vnd.jupyter.widget-view+json": {
       "model_id": "5bfa8c81a467462bbf8e8c9074f7d022",
       "version_major": 2,
       "version_minor": 0
      },
      "text/plain": [
       "Epoch 2. Train Loss: 0:   0%|          | 0/1000 [00:00<?, ?it/s]"
      ]
     },
     "metadata": {},
     "output_type": "display_data"
    },
    {
     "data": {
      "application/vnd.jupyter.widget-view+json": {
       "model_id": "dd28a798da584ab29db46be19399592d",
       "version_major": 2,
       "version_minor": 0
      },
      "text/plain": [
       "Test Loss: 0, Test Acc: 0:   0%|          | 0/250 [00:00<?, ?it/s]"
      ]
     },
     "metadata": {},
     "output_type": "display_data"
    },
    {
     "data": {
      "application/vnd.jupyter.widget-view+json": {
       "model_id": "e03474fa83274248a6cd38ad29eb4cbe",
       "version_major": 2,
       "version_minor": 0
      },
      "text/plain": [
       "Epoch 3. Train Loss: 0:   0%|          | 0/1000 [00:00<?, ?it/s]"
      ]
     },
     "metadata": {},
     "output_type": "display_data"
    },
    {
     "data": {
      "application/vnd.jupyter.widget-view+json": {
       "model_id": "679820f714b4490384fbaeaa3c6a5365",
       "version_major": 2,
       "version_minor": 0
      },
      "text/plain": [
       "Test Loss: 0, Test Acc: 0:   0%|          | 0/250 [00:00<?, ?it/s]"
      ]
     },
     "metadata": {},
     "output_type": "display_data"
    }
   ],
   "source": [
    "best_metric = np.inf\n",
    "for e in range(num_epochs):\n",
    "    training(model_tfidf, optimizer_tfidf, criterion, train_loader_tfidf, e, device)\n",
    "    log = testing(model_tfidf, criterion, valid_loader_tfidf, device)\n",
    "    if log[\"Test Loss\"] < best_metric:\n",
    "        torch.save(model_tfidf.state_dict(), \"model_tfidf.pt\")\n",
    "        best_metric = log[\"Test Loss\"]"
   ]
  },
  {
   "cell_type": "code",
   "execution_count": 20,
   "metadata": {},
   "outputs": [
    {
     "data": {
      "application/vnd.jupyter.widget-view+json": {
       "model_id": "d8f26c6d363549c090bf594a3b048831",
       "version_major": 2,
       "version_minor": 0
      },
      "text/plain": [
       "Test Loss: 0, Test Acc: 0:   0%|          | 0/313 [00:00<?, ?it/s]"
      ]
     },
     "metadata": {},
     "output_type": "display_data"
    },
    {
     "name": "stdout",
     "output_type": "stream",
     "text": [
      "{'Test Loss': 0.5690574756445596, 'Test Acc': 0.7264283396565495}\n"
     ]
    }
   ],
   "source": [
    "test_loader_tfidf = DataLoader(\n",
    "    DatasetTFIDFEmbs(test_data, \"text\", \"emotion\", word2vec,tfidf_embeddings_dict), \n",
    "    batch_size=batch_size, \n",
    "    num_workers=num_workers, \n",
    "    shuffle=False,\n",
    "    drop_last=False, \n",
    "    collate_fn=average_emb)\n",
    "\n",
    "model_tfidf.load_state_dict(torch.load(\"model_tfidf.pt\", map_location=device))\n",
    "\n",
    "print(testing(model_tfidf, criterion, test_loader_tfidf, device=device))"
   ]
  },
  {
   "cell_type": "markdown",
   "metadata": {},
   "source": [
    "## Вывод"
   ]
  },
  {
   "cell_type": "markdown",
   "metadata": {},
   "source": [
    "Итоговые результаты:\n",
    "\n",
    "\n",
    "| embeddings |Test Loss |Test Acc |\n",
    "|------|------|------|\n",
    "| average  |0.5702| 0.7237|\n",
    "| weighted sum |0.5710| 0.7229|\n",
    "| tfidf |0.5690| 0.7264|"
   ]
  },
  {
   "cell_type": "markdown",
   "metadata": {},
   "source": [
    "Лучшим себя показал метод с tf-idf эмбеддингами. Полагаю, это связанно с тем, что в данном методе при создании эмбеддингов использовалась матрица tf-idf рассчитанная на всем корпусе текстов. При этом обновлялись эмбеддинги не только слов, которых нет в словаре w2v модели, но и всех остальных. Значи такие эмбеддинги заключают в себе большее количество информации и, соответсвенно, дают больше возможностей для предсказания.\n",
    "\n",
    "Эмбеддинги, основанные на сумме взвешенных весов показывают результат чуть худший, чем исходные. Это может быть связано с тем, что формируя эмбеддинги неизвестных слов как сумму взвешенных соседей учитывается упоминание этого слова только в одном предложении - в одном контексте. Такой эмбеддинг получается не репрезентативным и, видимо, даже мешает классификации"
   ]
  }
 ],
 "metadata": {
  "accelerator": "GPU",
  "colab": {
   "collapsed_sections": [],
   "name": "Копия блокнота \"[homework]embeddings.ipynb\"",
   "provenance": []
  },
  "kernelspec": {
   "display_name": "Python 3 (ipykernel)",
   "language": "python",
   "name": "python3"
  },
  "language_info": {
   "codemirror_mode": {
    "name": "ipython",
    "version": 3
   },
   "file_extension": ".py",
   "mimetype": "text/x-python",
   "name": "python",
   "nbconvert_exporter": "python",
   "pygments_lexer": "ipython3",
   "version": "3.9.7"
  }
 },
 "nbformat": 4,
 "nbformat_minor": 1
}
